{
  "nbformat": 4,
  "nbformat_minor": 0,
  "metadata": {
    "colab": {
      "name": "Copy of KIRC Early/Late LDA.ipynb",
      "provenance": [],
      "collapsed_sections": []
    },
    "kernelspec": {
      "name": "python3",
      "display_name": "Python 3"
    }
  },
  "cells": [
    {
      "cell_type": "code",
      "metadata": {
        "id": "vezwi3ZD-3AL",
        "colab_type": "code",
        "colab": {}
      },
      "source": [
        "import numpy as np\n",
        "import pandas as pd\n",
        "# import spektral"
      ],
      "execution_count": 1,
      "outputs": []
    },
    {
      "cell_type": "code",
      "metadata": {
        "id": "vJoymt5U_SeY",
        "colab_type": "code",
        "colab": {}
      },
      "source": [
        "np.random.seed(42)"
      ],
      "execution_count": 2,
      "outputs": []
    },
    {
      "cell_type": "code",
      "metadata": {
        "id": "9WBDYiVD_YfG",
        "colab_type": "code",
        "colab": {
          "base_uri": "https://localhost:8080/",
          "height": 153
        },
        "outputId": "413a28c4-703e-406a-b9fe-ffc74508820a"
      },
      "source": [
        "import os \n",
        "\n",
        "path = '/content/drive/My Drive/IIITH/GCN_KEGG/GCN_Dataset/CSV'\n",
        "os.listdir(path)"
      ],
      "execution_count": 3,
      "outputs": [
        {
          "output_type": "execute_result",
          "data": {
            "text/plain": [
              "['Clinical_KICH_81_tumors.csv',\n",
              " 'Clinical_KIRP_290_tumors.csv',\n",
              " 'Clinical_KIRC_518_tumors.csv',\n",
              " 'KICH_81_tumors_log_transformed.csv',\n",
              " 'KIRP_290_tumors_log_transformed.csv',\n",
              " 'KIRC_518_tumors_log_transformed.csv',\n",
              " '.DS_Store']"
            ]
          },
          "metadata": {
            "tags": []
          },
          "execution_count": 3
        }
      ]
    },
    {
      "cell_type": "code",
      "metadata": {
        "id": "qWnZTUEP_l33",
        "colab_type": "code",
        "colab": {}
      },
      "source": [
        "def load_dataset(path, filename, transpose=True):\n",
        "    '''\n",
        "        Loads the dataset and converts into its transpose with appropriate columns\n",
        "    '''\n",
        "    df = pd.read_csv(os.path.join(path, filename))\n",
        "    df.rename(columns={\"Unnamed: 0\": \"pid\"}, inplace=True)\n",
        "    if transpose:\n",
        "        df = df.astype({\"pid\": str})\n",
        "        df = df.T\n",
        "        new_header = df.iloc[0] \n",
        "        df = df[1:]\n",
        "        df.columns = new_header\n",
        "    return df"
      ],
      "execution_count": 4,
      "outputs": []
    },
    {
      "cell_type": "code",
      "metadata": {
        "id": "TW9i65K3_ppT",
        "colab_type": "code",
        "colab": {}
      },
      "source": [
        "df_kirc = load_dataset(path,'KIRC_518_tumors_log_transformed.csv',transpose=True)\n",
        "patient_data_kirc = load_dataset(path,'Clinical_KIRC_518_tumors.csv',transpose=False)\n",
        "pid_kirc_drop1 = patient_data_kirc[patient_data_kirc['ajcc_pathologic_tumor_stage']=='[Not Available]'].pid\n",
        "pid_kirc_drop2 = patient_data_kirc[patient_data_kirc['ajcc_pathologic_tumor_stage']=='[Discrepancy]'].pid\n",
        "patient_data_kirc.drop(patient_data_kirc[patient_data_kirc['ajcc_pathologic_tumor_stage']=='[Not Available]'].index, inplace=True )\n",
        "patient_data_kirc.drop(patient_data_kirc[patient_data_kirc['ajcc_pathologic_tumor_stage']=='[Discrepancy]'].index, inplace=True )\n",
        "df_kirc.drop(pid_kirc_drop1,inplace=True)\n",
        "df_kirc.drop(pid_kirc_drop2,inplace=True)\n",
        "\n",
        "y_kirc=[]\n",
        "for pid in df_kirc.index:\n",
        "    stage=patient_data_kirc[patient_data_kirc['pid']==pid]['ajcc_pathologic_tumor_stage']\n",
        "    stage = stage.values[0]\n",
        "    if stage=='Stage I':\n",
        "        y_kirc.append(0)\n",
        "    elif stage=='Stage II':\n",
        "        y_kirc.append(0)\n",
        "    elif stage=='Stage III':\n",
        "        y_kirc.append(1)\n",
        "    elif stage=='Stage IV':\n",
        "        y_kirc.append(1)\n",
        "\n",
        "data = df_kirc\n",
        "y = y_kirc"
      ],
      "execution_count": 5,
      "outputs": []
    },
    {
      "cell_type": "code",
      "metadata": {
        "id": "9mGTV48AAHPY",
        "colab_type": "code",
        "colab": {
          "base_uri": "https://localhost:8080/",
          "height": 335
        },
        "outputId": "592f0ce5-fc2a-41d6-e402-a5bf36591937"
      },
      "source": [
        "import matplotlib.pyplot as plt\n",
        "plt.hist(y)"
      ],
      "execution_count": 6,
      "outputs": [
        {
          "output_type": "execute_result",
          "data": {
            "text/plain": [
              "(array([314.,   0.,   0.,   0.,   0.,   0.,   0.,   0.,   0., 201.]),\n",
              " array([0. , 0.1, 0.2, 0.3, 0.4, 0.5, 0.6, 0.7, 0.8, 0.9, 1. ]),\n",
              " <a list of 10 Patch objects>)"
            ]
          },
          "metadata": {
            "tags": []
          },
          "execution_count": 6
        },
        {
          "output_type": "display_data",
          "data": {
            "image/png": "[encoded data removed]",
            "text/plain": [
              "<Figure size 432x288 with 1 Axes>"
            ]
          },
          "metadata": {
            "tags": [],
            "needs_background": "light"
          }
        }
      ]
    },
    {
      "cell_type": "code",
      "metadata": {
        "id": "aMP4t2SKAJ-P",
        "colab_type": "code",
        "colab": {}
      },
      "source": [
        "def get_features_matrix(pathway):\n",
        "\n",
        "  genes_used = set()\n",
        "\n",
        "  for i in range(len(pathway)):\n",
        "      genes_used.add(pathway.iloc[i]['from'][4:])\n",
        "      genes_used.add(pathway.iloc[i]['to'][4:])\n",
        "\n",
        "  to_remove = []\n",
        "\n",
        "  for gene in genes_used:\n",
        "      if gene not in data.columns:\n",
        "          to_remove.append(gene)\n",
        "\n",
        "  for gene in to_remove:\n",
        "    genes_used.remove(gene)\n",
        "\n",
        "  genes_used = list(genes_used)\n",
        "  genes_used.sort()\n",
        "\n",
        "  return genes_used"
      ],
      "execution_count": 7,
      "outputs": []
    },
    {
      "cell_type": "code",
      "metadata": {
        "id": "-rVPa9NTA7Gh",
        "colab_type": "code",
        "colab": {}
      },
      "source": [
        "kegg_pathways_path = '/content/drive/My Drive/IIITH/GCN_KEGG/KEGG_csv'"
      ],
      "execution_count": 8,
      "outputs": []
    },
    {
      "cell_type": "code",
      "metadata": {
        "id": "Icf3kWd4HLye",
        "colab_type": "code",
        "colab": {}
      },
      "source": [
        "def store_pca_tsne_plots(X, y, fname):\n",
        "  path_to_save = '/content/drive/My Drive/IIITH/GCN_KEGG/KIRC_Stage_TSNE_PCA_Plots'\n",
        "  from sklearn.manifold import TSNE\n",
        "  tsne = TSNE(n_components=2, random_state=0, perplexity=35)\n",
        "  X_2d_tsne = tsne.fit_transform(X)\n",
        "  from matplotlib import pyplot as plt\n",
        "  plt.figure(figsize=(6, 5))\n",
        "  plt.scatter(X_2d_tsne[:, 0], X_2d_tsne[:, 1], c=y)\n",
        "  plt.savefig(os.path.join(path_to_save,'tsne',fname+'_tsne.png'))\n",
        "  plt.close()\n",
        "  from sklearn.decomposition import PCA\n",
        "  pca = PCA(n_components=2, whiten=True)\n",
        "  X_2d_pca = pca.fit_transform(X) \n",
        "  plt.scatter(X_2d_pca[:, 0], X_2d_pca[:, 1], c=y) \n",
        "  plt.savefig(os.path.join(path_to_save,'pca',fname+'_pca.png'))\n",
        "  plt.close()\n",
        "  from sklearn.discriminant_analysis import LinearDiscriminantAnalysis\n",
        "  lda = LinearDiscriminantAnalysis(n_components=2)\n",
        "  X_r2 = lda.fit(X, y).transform(X)\n",
        "  plt.figure(figsize=(6, 5))\n",
        "  plt.scatter(X_r2, y, c=y)\n",
        "  plt.savefig(os.path.join(path_to_save,'lda',fname+'_lda.png'))\n",
        "  plt.close()"
      ],
      "execution_count": 9,
      "outputs": []
    },
    {
      "cell_type": "code",
      "metadata": {
        "id": "IawQyg1xrOk3",
        "colab_type": "code",
        "colab": {}
      },
      "source": [
        "y = np.asarray(y)"
      ],
      "execution_count": 10,
      "outputs": []
    },
    {
      "cell_type": "code",
      "metadata": {
        "id": "v0mG6WJ7rybN",
        "colab_type": "code",
        "colab": {}
      },
      "source": [
        "from sklearn.model_selection import train_test_split\n",
        "data_train, data_test, y_train, y_test = train_test_split(data, y, test_size=0.2, random_state=0, stratify=y)"
      ],
      "execution_count": 11,
      "outputs": []
    },
    {
      "cell_type": "code",
      "metadata": {
        "id": "ViTyi9oTsX1F",
        "colab_type": "code",
        "colab": {}
      },
      "source": [
        "new_X_matrix_train = []\n",
        "new_X_matrix_test = []\n",
        "lda_scores = []"
      ],
      "execution_count": 12,
      "outputs": []
    },
    {
      "cell_type": "code",
      "metadata": {
        "id": "aYcge9FqTVVv",
        "colab_type": "code",
        "colab": {}
      },
      "source": [
        "from sklearn.model_selection import cross_val_score\n",
        "from sklearn.model_selection import RepeatedStratifiedKFold\n",
        "from sklearn.feature_selection import RFE\n",
        "from sklearn.linear_model import LogisticRegression\n",
        "from sklearn.linear_model import Perceptron\n",
        "from sklearn.tree import DecisionTreeClassifier\n",
        "from sklearn.ensemble import RandomForestClassifier\n",
        "from sklearn.ensemble import GradientBoostingClassifier\n",
        "from sklearn.pipeline import Pipeline\n",
        "\n",
        "import matplotlib.pyplot as plt\n",
        "from sklearn.datasets import make_classification\n",
        "from sklearn import model_selection\n",
        "from sklearn.model_selection import train_test_split, GridSearchCV\n",
        "from sklearn.preprocessing import StandardScaler\n",
        "from sklearn.pipeline import Pipeline\n",
        "from sklearn import metrics\n",
        "\n",
        "# Classifiers\n",
        "from sklearn.svm import NuSVC, SVC\n",
        "from sklearn.neural_network import MLPClassifier\n",
        "from sklearn.ensemble import RandomForestClassifier, VotingClassifier, ExtraTreesClassifier\n",
        "from sklearn.naive_bayes import GaussianNB"
      ],
      "execution_count": 13,
      "outputs": []
    },
    {
      "cell_type": "code",
      "metadata": {
        "id": "y_PsUt1tJc-Y",
        "colab_type": "code",
        "colab": {}
      },
      "source": [
        "features_used = []"
      ],
      "execution_count": 14,
      "outputs": []
    },
    {
      "cell_type": "code",
      "metadata": {
        "id": "Dfdl3t2oOTQ8",
        "colab_type": "code",
        "colab": {
          "base_uri": "https://localhost:8080/",
          "height": 54
        },
        "outputId": "d6b3a730-a786-4bdc-9e95-02c87062da69"
      },
      "source": [
        "from tqdm import tqdm\n",
        "from sklearn.discriminant_analysis import LinearDiscriminantAnalysis\n",
        "from sklearn.decomposition import TruncatedSVD\n",
        "\n",
        "files_to_use = os.listdir(kegg_pathways_path)\n",
        "files_to_use.sort()\n",
        "\n",
        "for file in tqdm(files_to_use):\n",
        "  pathway = pd.read_csv(os.path.join(kegg_pathways_path,file))\n",
        "  pathway.rename(columns={\"Unnamed: 0\": \"idx\"}, inplace=True)\n",
        "  X_train = data_train[get_features_matrix(pathway)]\n",
        "  X_test = data_test[get_features_matrix(pathway)]\n",
        "  if X_test.shape[1]==0:\n",
        "    continue\n",
        "  # X['y'] = y\n",
        "  X_train = X_train.to_numpy()\n",
        "  X_test = X_test.to_numpy()\n",
        "  X = np.concatenate([X_train, X_test])\n",
        "  sc = StandardScaler()\n",
        "  X = sc.fit_transform(X)\n",
        "  X_train = X[0:len(y_train)]\n",
        "  X_test = X[len(y_train):]\n",
        "\n",
        "  # Initializing Support Vector classifier\n",
        "  clf1 = ExtraTreesClassifier(max_depth=25, random_state=0, n_estimators=2500)\n",
        "  clf2 = RandomForestClassifier(n_estimators = 1500, criterion = \"gini\", max_depth = 5,\n",
        "                                  max_features = \"auto\", min_samples_leaf = 0.005,\n",
        "                                  min_samples_split = 0.005, n_jobs = -1, random_state = 0) \n",
        "  clf3 = GaussianNB()\n",
        "  \n",
        "\n",
        "  eclf3 = VotingClassifier(estimators=[\n",
        "       ('lr', clf1), ('rf', clf2), ('gb', clf3)],\n",
        "       voting='soft', weights=[2,3,1.5],\n",
        "       flatten_transform=True)\n",
        "  eclf3 = eclf3.fit(X_train, y_train)\n",
        "\n",
        "\n",
        "  score = eclf3.score(X_test, y_test)\n",
        "  if score>0.75:\n",
        "    features_used.append(file)\n",
        "    lda_scores.append(score)\n",
        "\n",
        "    gcn_pathway_output = eclf3.predict_proba(X)\n",
        "    filename_output_csv = os.path.join(\"/content/drive/My Drive/IIITH/GCN_KEGG/KIRC_Stage_TSNE_PCA_Plots/GCN_Pathway_output_scores\",file)\n",
        "    np.savetxt(filename_output_csv,gcn_pathway_output)    \n",
        "  \n",
        "\n",
        "  \n",
        "\n"
      ],
      "execution_count": 15,
      "outputs": [
        {
          "output_type": "stream",
          "text": [
            "100%|██████████| 114/114 [15:59<00:00,  8.42s/it]\n"
          ],
          "name": "stderr"
        }
      ]
    },
    {
      "cell_type": "code",
      "metadata": {
        "id": "4e6QVaN3uQ9i",
        "colab_type": "code",
        "colab": {}
      },
      "source": [
        "lda_scores = np.asarray(lda_scores)"
      ],
      "execution_count": 16,
      "outputs": []
    },
    {
      "cell_type": "code",
      "metadata": {
        "id": "ziwv208XuHq6",
        "colab_type": "code",
        "colab": {
          "base_uri": "https://localhost:8080/",
          "height": 302
        },
        "outputId": "ac720a3a-c927-4e8e-b4bf-91aeabc51a98"
      },
      "source": [
        "import matplotlib.pyplot as plt\n",
        "plt.plot(lda_scores)"
      ],
      "execution_count": 17,
      "outputs": [
        {
          "output_type": "execute_result",
          "data": {
            "text/plain": [
              "[<matplotlib.lines.Line2D at 0x7f7d9043f208>]"
            ]
          },
          "metadata": {
            "tags": []
          },
          "execution_count": 17
        },
        {
          "output_type": "display_data",
          "data": {
            "image/png": "[encoded data removed]",
            "text/plain": [
              "<Figure size 432x288 with 1 Axes>"
            ]
          },
          "metadata": {
            "tags": [],
            "needs_background": "light"
          }
        }
      ]
    },
    {
      "cell_type": "code",
      "metadata": {
        "id": "N7_xxeyfJKEf",
        "colab_type": "code",
        "colab": {
          "base_uri": "https://localhost:8080/",
          "height": 54
        },
        "outputId": "766a2963-2df9-4d3c-f6a5-9a567bab7095"
      },
      "source": [
        "np.mean(lda_scores)"
      ],
      "execution_count": 18,
      "outputs": [
        {
          "output_type": "execute_result",
          "data": {
            "text/plain": [
              "0.7649676375404532"
            ]
          },
          "metadata": {
            "tags": []
          },
          "execution_count": 18
        }
      ]
    },
    {
      "cell_type": "code",
      "metadata": {
        "id": "uR6qwJYL-9uv",
        "colab_type": "code",
        "colab": {
          "base_uri": "https://localhost:8080/",
          "height": 54
        },
        "outputId": "48968de0-a4b1-42d5-87bb-0ab824ceff7f"
      },
      "source": [
        "lda_scores[1], lda_scores[20]"
      ],
      "execution_count": 19,
      "outputs": [
        {
          "output_type": "execute_result",
          "data": {
            "text/plain": [
              "(0.8058252427184466, 0.7961165048543689)"
            ]
          },
          "metadata": {
            "tags": []
          },
          "execution_count": 19
        }
      ]
    },
    {
      "cell_type": "code",
      "metadata": {
        "id": "d7RTF7WXJVvY",
        "colab_type": "code",
        "colab": {}
      },
      "source": [
        "y_labels = np.concatenate([y_train, y_test])\n",
        "filename_output_csv = os.path.join(\"/content/drive/My Drive/IIITH/GCN_KEGG/KIRC_Stage_TSNE_PCA_Plots\",\"labels.csv\")\n",
        "np.savetxt(filename_output_csv,y_labels)"
      ],
      "execution_count": 20,
      "outputs": []
    },
    {
      "cell_type": "code",
      "metadata": {
        "id": "_xiwH-ABOEJ8",
        "colab_type": "code",
        "colab": {
          "base_uri": "https://localhost:8080/",
          "height": 434
        },
        "outputId": "66dfe674-3995-4eeb-ef1d-883585af0083"
      },
      "source": [
        "features_used"
      ],
      "execution_count": 25,
      "outputs": [
        {
          "output_type": "execute_result",
          "data": {
            "text/plain": [
              "['hsa04010 .csv',\n",
              " 'hsa04015 .csv',\n",
              " 'hsa04068 .csv',\n",
              " 'hsa04071 .csv',\n",
              " 'hsa04150 .csv',\n",
              " 'hsa04152 .csv',\n",
              " 'hsa04211 .csv',\n",
              " 'hsa04270 .csv',\n",
              " 'hsa04658 .csv',\n",
              " 'hsa04660 .csv',\n",
              " 'hsa04664 .csv',\n",
              " 'hsa04714 .csv',\n",
              " 'hsa04722 .csv',\n",
              " 'hsa04724 .csv',\n",
              " 'hsa04728 .csv',\n",
              " 'hsa04911 .csv',\n",
              " 'hsa04912 .csv',\n",
              " 'hsa04921 .csv',\n",
              " 'hsa04928 .csv',\n",
              " 'hsa04929 .csv',\n",
              " 'hsa04970 .csv',\n",
              " 'hsa04972 .csv',\n",
              " 'hsa05200 .csv',\n",
              " 'hsa05235 .csv']"
            ]
          },
          "metadata": {
            "tags": []
          },
          "execution_count": 25
        }
      ]
    },
    {
      "cell_type": "code",
      "metadata": {
        "id": "co2_ufQZOGxa",
        "colab_type": "code",
        "colab": {}
      },
      "source": [
        "new_gene_set = set()\n",
        "\n",
        "for gene in features_used[1]:\n",
        "  new_gene_set.add(gene)\n",
        "for gene in features_used[20]:\n",
        "  new_gene_set.add(gene)"
      ],
      "execution_count": 22,
      "outputs": []
    },
    {
      "cell_type": "code",
      "metadata": {
        "id": "l_vWSOpoPEAR",
        "colab_type": "code",
        "colab": {
          "base_uri": "https://localhost:8080/",
          "height": 54
        },
        "outputId": "b2daac1c-64d6-4a37-e5bf-262be9cad791"
      },
      "source": [
        "len(new_gene_set)"
      ],
      "execution_count": 23,
      "outputs": [
        {
          "output_type": "execute_result",
          "data": {
            "text/plain": [
              "13"
            ]
          },
          "metadata": {
            "tags": []
          },
          "execution_count": 23
        }
      ]
    },
    {
      "cell_type": "code",
      "metadata": {
        "id": "NXvWqqJnPGUr",
        "colab_type": "code",
        "colab": {
          "base_uri": "https://localhost:8080/",
          "height": 386
        },
        "outputId": "8e7f323c-0158-4c63-d875-6846f6f2079f"
      },
      "source": [
        "X_train = data_train[new_gene_set]\n",
        "X_test = data_test[new_gene_set]\n",
        "assert X_test.shape[1]!=0\n",
        "# X['y'] = y\n",
        "X_train = X_train.to_numpy()\n",
        "X_test = X_test.to_numpy()\n",
        "X = np.concatenate([X_train, X_test])\n",
        "sc = StandardScaler()\n",
        "X = sc.fit_transform(X)\n",
        "X_train = X[0:len(y_train)]\n",
        "X_test = X[len(y_train):]\n",
        "\n",
        "# Initializing Support Vector classifier\n",
        "clf1 = ExtraTreesClassifier(max_depth=25, random_state=0, n_estimators=2500)\n",
        "clf2 = RandomForestClassifier(n_estimators = 2500, criterion = \"gini\", max_depth = 5,\n",
        "                                max_features = \"auto\", min_samples_leaf = 0.005,\n",
        "                                min_samples_split = 0.005, n_jobs = -1, random_state = 0) \n",
        "clf3 = GaussianNB()\n",
        "\n",
        "\n",
        "eclf3 = VotingClassifier(estimators=[\n",
        "      ('lr', clf1), ('rf', clf2), ('gb', clf3)],\n",
        "      voting='soft', weights=[2,3,1.5],\n",
        "      flatten_transform=True)\n",
        "eclf3 = eclf3.fit(X_train, y_train)\n",
        "\n",
        "\n",
        "print(eclf3.score(X_test, y_test))"
      ],
      "execution_count": 24,
      "outputs": [
        {
          "output_type": "error",
          "ename": "KeyError",
          "evalue": "ignored",
          "traceback": [
            "\u001b[0;31m---------------------------------------------------------------------------\u001b[0m",
            "\u001b[0;31mKeyError\u001b[0m                                  Traceback (most recent call last)",
            "\u001b[0;32m<ipython-input-24-7e7020a662fb>\u001b[0m in \u001b[0;36m<module>\u001b[0;34m()\u001b[0m\n\u001b[0;32m----> 1\u001b[0;31m \u001b[0mX_train\u001b[0m \u001b[0;34m=\u001b[0m \u001b[0mdata_train\u001b[0m\u001b[0;34m[\u001b[0m\u001b[0mnew_gene_set\u001b[0m\u001b[0;34m]\u001b[0m\u001b[0;34m\u001b[0m\u001b[0;34m\u001b[0m\u001b[0m\n\u001b[0m\u001b[1;32m      2\u001b[0m \u001b[0mX_test\u001b[0m \u001b[0;34m=\u001b[0m \u001b[0mdata_test\u001b[0m\u001b[0;34m[\u001b[0m\u001b[0mnew_gene_set\u001b[0m\u001b[0;34m]\u001b[0m\u001b[0;34m\u001b[0m\u001b[0;34m\u001b[0m\u001b[0m\n\u001b[1;32m      3\u001b[0m \u001b[0;32massert\u001b[0m \u001b[0mX_test\u001b[0m\u001b[0;34m.\u001b[0m\u001b[0mshape\u001b[0m\u001b[0;34m[\u001b[0m\u001b[0;36m1\u001b[0m\u001b[0;34m]\u001b[0m\u001b[0;34m!=\u001b[0m\u001b[0;36m0\u001b[0m\u001b[0;34m\u001b[0m\u001b[0;34m\u001b[0m\u001b[0m\n\u001b[1;32m      4\u001b[0m \u001b[0;31m# X['y'] = y\u001b[0m\u001b[0;34m\u001b[0m\u001b[0;34m\u001b[0m\u001b[0;34m\u001b[0m\u001b[0m\n\u001b[1;32m      5\u001b[0m \u001b[0mX_train\u001b[0m \u001b[0;34m=\u001b[0m \u001b[0mX_train\u001b[0m\u001b[0;34m.\u001b[0m\u001b[0mto_numpy\u001b[0m\u001b[0;34m(\u001b[0m\u001b[0;34m)\u001b[0m\u001b[0;34m\u001b[0m\u001b[0;34m\u001b[0m\u001b[0m\n",
            "\u001b[0;32m/usr/local/lib/python3.6/dist-packages/pandas/core/frame.py\u001b[0m in \u001b[0;36m__getitem__\u001b[0;34m(self, key)\u001b[0m\n\u001b[1;32m   2804\u001b[0m             \u001b[0;32mif\u001b[0m \u001b[0mis_iterator\u001b[0m\u001b[0;34m(\u001b[0m\u001b[0mkey\u001b[0m\u001b[0;34m)\u001b[0m\u001b[0;34m:\u001b[0m\u001b[0;34m\u001b[0m\u001b[0;34m\u001b[0m\u001b[0m\n\u001b[1;32m   2805\u001b[0m                 \u001b[0mkey\u001b[0m \u001b[0;34m=\u001b[0m \u001b[0mlist\u001b[0m\u001b[0;34m(\u001b[0m\u001b[0mkey\u001b[0m\u001b[0;34m)\u001b[0m\u001b[0;34m\u001b[0m\u001b[0;34m\u001b[0m\u001b[0m\n\u001b[0;32m-> 2806\u001b[0;31m             \u001b[0mindexer\u001b[0m \u001b[0;34m=\u001b[0m \u001b[0mself\u001b[0m\u001b[0;34m.\u001b[0m\u001b[0mloc\u001b[0m\u001b[0;34m.\u001b[0m\u001b[0m_get_listlike_indexer\u001b[0m\u001b[0;34m(\u001b[0m\u001b[0mkey\u001b[0m\u001b[0;34m,\u001b[0m \u001b[0maxis\u001b[0m\u001b[0;34m=\u001b[0m\u001b[0;36m1\u001b[0m\u001b[0;34m,\u001b[0m \u001b[0mraise_missing\u001b[0m\u001b[0;34m=\u001b[0m\u001b[0;32mTrue\u001b[0m\u001b[0;34m)\u001b[0m\u001b[0;34m[\u001b[0m\u001b[0;36m1\u001b[0m\u001b[0;34m]\u001b[0m\u001b[0;34m\u001b[0m\u001b[0;34m\u001b[0m\u001b[0m\n\u001b[0m\u001b[1;32m   2807\u001b[0m \u001b[0;34m\u001b[0m\u001b[0m\n\u001b[1;32m   2808\u001b[0m         \u001b[0;31m# take() does not accept boolean indexers\u001b[0m\u001b[0;34m\u001b[0m\u001b[0;34m\u001b[0m\u001b[0;34m\u001b[0m\u001b[0m\n",
            "\u001b[0;32m/usr/local/lib/python3.6/dist-packages/pandas/core/indexing.py\u001b[0m in \u001b[0;36m_get_listlike_indexer\u001b[0;34m(self, key, axis, raise_missing)\u001b[0m\n\u001b[1;32m   1551\u001b[0m \u001b[0;34m\u001b[0m\u001b[0m\n\u001b[1;32m   1552\u001b[0m         self._validate_read_indexer(\n\u001b[0;32m-> 1553\u001b[0;31m             \u001b[0mkeyarr\u001b[0m\u001b[0;34m,\u001b[0m \u001b[0mindexer\u001b[0m\u001b[0;34m,\u001b[0m \u001b[0mo\u001b[0m\u001b[0;34m.\u001b[0m\u001b[0m_get_axis_number\u001b[0m\u001b[0;34m(\u001b[0m\u001b[0maxis\u001b[0m\u001b[0;34m)\u001b[0m\u001b[0;34m,\u001b[0m \u001b[0mraise_missing\u001b[0m\u001b[0;34m=\u001b[0m\u001b[0mraise_missing\u001b[0m\u001b[0;34m\u001b[0m\u001b[0;34m\u001b[0m\u001b[0m\n\u001b[0m\u001b[1;32m   1554\u001b[0m         )\n\u001b[1;32m   1555\u001b[0m         \u001b[0;32mreturn\u001b[0m \u001b[0mkeyarr\u001b[0m\u001b[0;34m,\u001b[0m \u001b[0mindexer\u001b[0m\u001b[0;34m\u001b[0m\u001b[0;34m\u001b[0m\u001b[0m\n",
            "\u001b[0;32m/usr/local/lib/python3.6/dist-packages/pandas/core/indexing.py\u001b[0m in \u001b[0;36m_validate_read_indexer\u001b[0;34m(self, key, indexer, axis, raise_missing)\u001b[0m\n\u001b[1;32m   1644\u001b[0m             \u001b[0;32mif\u001b[0m \u001b[0;32mnot\u001b[0m \u001b[0;34m(\u001b[0m\u001b[0mself\u001b[0m\u001b[0;34m.\u001b[0m\u001b[0mname\u001b[0m \u001b[0;34m==\u001b[0m \u001b[0;34m\"loc\"\u001b[0m \u001b[0;32mand\u001b[0m \u001b[0;32mnot\u001b[0m \u001b[0mraise_missing\u001b[0m\u001b[0;34m)\u001b[0m\u001b[0;34m:\u001b[0m\u001b[0;34m\u001b[0m\u001b[0;34m\u001b[0m\u001b[0m\n\u001b[1;32m   1645\u001b[0m                 \u001b[0mnot_found\u001b[0m \u001b[0;34m=\u001b[0m \u001b[0mlist\u001b[0m\u001b[0;34m(\u001b[0m\u001b[0mset\u001b[0m\u001b[0;34m(\u001b[0m\u001b[0mkey\u001b[0m\u001b[0;34m)\u001b[0m \u001b[0;34m-\u001b[0m \u001b[0mset\u001b[0m\u001b[0;34m(\u001b[0m\u001b[0max\u001b[0m\u001b[0;34m)\u001b[0m\u001b[0;34m)\u001b[0m\u001b[0;34m\u001b[0m\u001b[0;34m\u001b[0m\u001b[0m\n\u001b[0;32m-> 1646\u001b[0;31m                 \u001b[0;32mraise\u001b[0m \u001b[0mKeyError\u001b[0m\u001b[0;34m(\u001b[0m\u001b[0;34mf\"{not_found} not in index\"\u001b[0m\u001b[0;34m)\u001b[0m\u001b[0;34m\u001b[0m\u001b[0;34m\u001b[0m\u001b[0m\n\u001b[0m\u001b[1;32m   1647\u001b[0m \u001b[0;34m\u001b[0m\u001b[0m\n\u001b[1;32m   1648\u001b[0m             \u001b[0;31m# we skip the warning on Categorical/Interval\u001b[0m\u001b[0;34m\u001b[0m\u001b[0;34m\u001b[0m\u001b[0;34m\u001b[0m\u001b[0m\n",
            "\u001b[0;31mKeyError\u001b[0m: \"['0', 'a', '.', '7', ' ', 'h', '5', 's', 'v', '4', 'c'] not in index\""
          ]
        }
      ]
    },
    {
      "cell_type": "code",
      "metadata": {
        "id": "RNeVVHlhPgKs",
        "colab_type": "code",
        "colab": {}
      },
      "source": [
        "len(y_train)"
      ],
      "execution_count": null,
      "outputs": []
    },
    {
      "cell_type": "code",
      "metadata": {
        "id": "5Cnkjg5UcXHx",
        "colab_type": "code",
        "colab": {}
      },
      "source": [
        ""
      ],
      "execution_count": null,
      "outputs": []
    }
  ]
}