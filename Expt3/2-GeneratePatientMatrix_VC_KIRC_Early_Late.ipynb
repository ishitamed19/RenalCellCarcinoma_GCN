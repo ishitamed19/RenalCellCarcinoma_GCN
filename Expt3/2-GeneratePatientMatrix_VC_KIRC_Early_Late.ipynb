{
  "nbformat": 4,
  "nbformat_minor": 0,
  "metadata": {
    "colab": {
      "name": "MAE_GeneratePatientMatrix KIRC - Early/Late.ipynb",
      "provenance": [],
      "collapsed_sections": []
    },
    "kernelspec": {
      "name": "python3",
      "display_name": "Python 3"
    }
  },
  "cells": [
    {
      "cell_type": "code",
      "metadata": {
        "id": "7jf9E8pD3HcL",
        "colab_type": "code",
        "colab": {}
      },
      "source": [
        "import numpy as np\n",
        "import pandas as pd\n",
        "import os"
      ],
      "execution_count": 13,
      "outputs": []
    },
    {
      "cell_type": "code",
      "metadata": {
        "id": "hA0MZFfP3Q6-",
        "colab_type": "code",
        "colab": {}
      },
      "source": [
        "csv_files_to_read = '/content/drive/My Drive/IIITH/GCN_KEGG/KIRC_Stage_TSNE_PCA_Plots/GCN_Pathway_output_scores'"
      ],
      "execution_count": 14,
      "outputs": []
    },
    {
      "cell_type": "code",
      "metadata": {
        "id": "kL5h8hiC35X2",
        "colab_type": "code",
        "colab": {}
      },
      "source": [
        "file_map = {}"
      ],
      "execution_count": 15,
      "outputs": []
    },
    {
      "cell_type": "code",
      "metadata": {
        "id": "hFTmALgi3jgT",
        "colab_type": "code",
        "colab": {}
      },
      "source": [
        "files_to_use = ['hsa04010 .csv',\n",
        " 'hsa04015 .csv',\n",
        " 'hsa04068 .csv',\n",
        " 'hsa04071 .csv',\n",
        " 'hsa04150 .csv',\n",
        " 'hsa04152 .csv',\n",
        " 'hsa04211 .csv',\n",
        " 'hsa04270 .csv',\n",
        " 'hsa04658 .csv',\n",
        " 'hsa04660 .csv',\n",
        " 'hsa04664 .csv',\n",
        " 'hsa04714 .csv',\n",
        " 'hsa04722 .csv',\n",
        " 'hsa04724 .csv',\n",
        " 'hsa04728 .csv',\n",
        " 'hsa04911 .csv',\n",
        " 'hsa04912 .csv',\n",
        " 'hsa04921 .csv',\n",
        " 'hsa04928 .csv',\n",
        " 'hsa04929 .csv',\n",
        " 'hsa04970 .csv',\n",
        " 'hsa04972 .csv',\n",
        " 'hsa05200 .csv',\n",
        " 'hsa05235 .csv'] #os.listdir(csv_files_to_read)\n",
        "files_to_use.sort()\n",
        "\n",
        "for i,file in enumerate(files_to_use):\n",
        "  file_map[file] = i"
      ],
      "execution_count": 16,
      "outputs": []
    },
    {
      "cell_type": "code",
      "metadata": {
        "id": "RfPY1Rpo1J69",
        "colab_type": "code",
        "colab": {
          "base_uri": "https://localhost:8080/",
          "height": 54
        },
        "outputId": "70ba2605-7d72-4909-c621-1c78dff1e6a8"
      },
      "source": [
        "print(file_map)"
      ],
      "execution_count": 17,
      "outputs": [
        {
          "output_type": "stream",
          "text": [
            "{'hsa04010 .csv': 0, 'hsa04015 .csv': 1, 'hsa04068 .csv': 2, 'hsa04071 .csv': 3, 'hsa04150 .csv': 4, 'hsa04152 .csv': 5, 'hsa04211 .csv': 6, 'hsa04270 .csv': 7, 'hsa04658 .csv': 8, 'hsa04660 .csv': 9, 'hsa04664 .csv': 10, 'hsa04714 .csv': 11, 'hsa04722 .csv': 12, 'hsa04724 .csv': 13, 'hsa04728 .csv': 14, 'hsa04911 .csv': 15, 'hsa04912 .csv': 16, 'hsa04921 .csv': 17, 'hsa04928 .csv': 18, 'hsa04929 .csv': 19, 'hsa04970 .csv': 20, 'hsa04972 .csv': 21, 'hsa05200 .csv': 22, 'hsa05235 .csv': 23}\n"
          ],
          "name": "stdout"
        }
      ]
    },
    {
      "cell_type": "code",
      "metadata": {
        "id": "uNiBwNXr3xEc",
        "colab_type": "code",
        "colab": {}
      },
      "source": [
        "assert len(file_map)==24"
      ],
      "execution_count": 18,
      "outputs": []
    },
    {
      "cell_type": "code",
      "metadata": {
        "id": "b9IMeVA04FTw",
        "colab_type": "code",
        "colab": {}
      },
      "source": [
        "num_patients = 515\n",
        "num_files = 24"
      ],
      "execution_count": 19,
      "outputs": []
    },
    {
      "cell_type": "code",
      "metadata": {
        "id": "0En_7WSp4Ldz",
        "colab_type": "code",
        "colab": {}
      },
      "source": [
        "pathways_outputs = []"
      ],
      "execution_count": 20,
      "outputs": []
    },
    {
      "cell_type": "code",
      "metadata": {
        "id": "YTrDJHsN4mGF",
        "colab_type": "code",
        "colab": {
          "base_uri": "https://localhost:8080/",
          "height": 434
        },
        "outputId": "ce018ae7-3fea-4406-b4bf-7ba9f4d853f2"
      },
      "source": [
        "for file in files_to_use:\n",
        "  idx = file_map[file]\n",
        "  print(idx, file)\n",
        "  pathway_output = np.genfromtxt(os.path.join(csv_files_to_read,file),delimiter=' ',dtype='float32')\n",
        "  pathways_outputs.append(pathway_output)"
      ],
      "execution_count": 21,
      "outputs": [
        {
          "output_type": "stream",
          "text": [
            "0 hsa04010 .csv\n",
            "1 hsa04015 .csv\n",
            "2 hsa04068 .csv\n",
            "3 hsa04071 .csv\n",
            "4 hsa04150 .csv\n",
            "5 hsa04152 .csv\n",
            "6 hsa04211 .csv\n",
            "7 hsa04270 .csv\n",
            "8 hsa04658 .csv\n",
            "9 hsa04660 .csv\n",
            "10 hsa04664 .csv\n",
            "11 hsa04714 .csv\n",
            "12 hsa04722 .csv\n",
            "13 hsa04724 .csv\n",
            "14 hsa04728 .csv\n",
            "15 hsa04911 .csv\n",
            "16 hsa04912 .csv\n",
            "17 hsa04921 .csv\n",
            "18 hsa04928 .csv\n",
            "19 hsa04929 .csv\n",
            "20 hsa04970 .csv\n",
            "21 hsa04972 .csv\n",
            "22 hsa05200 .csv\n",
            "23 hsa05235 .csv\n"
          ],
          "name": "stdout"
        }
      ]
    },
    {
      "cell_type": "code",
      "metadata": {
        "id": "AcZTa2Gn6tlU",
        "colab_type": "code",
        "colab": {}
      },
      "source": [
        "folder_to_store = '/content/drive/My Drive/IIITH/GCN_KEGG/KIRC_Stage_TSNE_PCA_Plots/Patient_Matrices'"
      ],
      "execution_count": 22,
      "outputs": []
    },
    {
      "cell_type": "code",
      "metadata": {
        "id": "rOpf3vN47U_s",
        "colab_type": "code",
        "colab": {}
      },
      "source": [
        "for patient in range(num_patients):\n",
        "  scores = []\n",
        "  for file in range(num_files):\n",
        "    # print(patient, file)\n",
        "    scores.append(pathways_outputs[file][patient])\n",
        "  fp = str(patient) + '.csv'\n",
        "  np.savetxt(os.path.join(folder_to_store,fp), scores, delimiter=\",\")"
      ],
      "execution_count": 23,
      "outputs": []
    },
    {
      "cell_type": "code",
      "metadata": {
        "id": "RxXKJ4kn8VMn",
        "colab_type": "code",
        "colab": {
          "base_uri": "https://localhost:8080/",
          "height": 54
        },
        "outputId": "e301d154-d784-4888-9a61-87aa1fa07a1f"
      },
      "source": [
        "len(pathways_outputs[0])"
      ],
      "execution_count": 24,
      "outputs": [
        {
          "output_type": "execute_result",
          "data": {
            "text/plain": [
              "515"
            ]
          },
          "metadata": {
            "tags": []
          },
          "execution_count": 24
        }
      ]
    },
    {
      "cell_type": "code",
      "metadata": {
        "id": "bXICnKri3EhL",
        "colab_type": "code",
        "colab": {}
      },
      "source": [
        ""
      ],
      "execution_count": 24,
      "outputs": []
    }
  ]
}