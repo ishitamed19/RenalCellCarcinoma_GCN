{
  "nbformat": 4,
  "nbformat_minor": 0,
  "metadata": {
    "colab": {
      "name": "GCN_MAE_Attention.ipynb",
      "provenance": [],
      "collapsed_sections": []
    },
    "kernelspec": {
      "name": "python3",
      "display_name": "Python 3"
    },
    "accelerator": "GPU"
  },
  "cells": [
    {
      "cell_type": "code",
      "metadata": {
        "id": "SIj6v4m3nXGw",
        "colab_type": "code",
        "colab": {}
      },
      "source": [
        "import numpy as np\n",
        "import pandas as pd\n",
        "import tensorflow as tf\n",
        "np.random.seed(42)\n",
        "tf.random.set_seed(42)"
      ],
      "execution_count": 0,
      "outputs": []
    },
    {
      "cell_type": "code",
      "metadata": {
        "id": "Bb5i9BOIobpS",
        "colab_type": "code",
        "colab": {}
      },
      "source": [
        "import os"
      ],
      "execution_count": 0,
      "outputs": []
    },
    {
      "cell_type": "code",
      "metadata": {
        "id": "kr9O-MzWn3ej",
        "colab_type": "code",
        "colab": {}
      },
      "source": [
        "path = '/content/drive/My Drive/IIITH/GCN_KEGG/GCN_patient_matrix'"
      ],
      "execution_count": 0,
      "outputs": []
    },
    {
      "cell_type": "code",
      "metadata": {
        "id": "mRgQwB_PolGh",
        "colab_type": "code",
        "colab": {}
      },
      "source": [
        "labels = '/content/drive/My Drive/IIITH/GCN_KEGG/patient_labels.csv'\n",
        "y = pd.read_csv(labels, header=None)"
      ],
      "execution_count": 0,
      "outputs": []
    },
    {
      "cell_type": "code",
      "metadata": {
        "id": "sLUl-y7lpi8l",
        "colab_type": "code",
        "colab": {}
      },
      "source": [
        "X = []"
      ],
      "execution_count": 0,
      "outputs": []
    },
    {
      "cell_type": "code",
      "metadata": {
        "id": "ncUn8dKQpPjS",
        "colab_type": "code",
        "colab": {
          "base_uri": "https://localhost:8080/",
          "height": 1000
        },
        "outputId": "de58e648-d0a3-4625-ec60-a6cfa287c4c9"
      },
      "source": [
        "for patient in range(889):\n",
        "  filename = str(patient) + '.csv'\n",
        "  print(filename)\n",
        "  df = pd.read_csv(os.path.join(path,str(filename)), header=None)\n",
        "  X.append(df.to_numpy())"
      ],
      "execution_count": 6,
      "outputs": [
        {
          "output_type": "stream",
          "text": [
            "0.csv\n",
            "1.csv\n",
            "2.csv\n",
            "3.csv\n",
            "4.csv\n",
            "5.csv\n",
            "6.csv\n",
            "7.csv\n",
            "8.csv\n",
            "9.csv\n",
            "10.csv\n",
            "11.csv\n",
            "12.csv\n",
            "13.csv\n",
            "14.csv\n",
            "15.csv\n",
            "16.csv\n",
            "17.csv\n",
            "18.csv\n",
            "19.csv\n",
            "20.csv\n",
            "21.csv\n",
            "22.csv\n",
            "23.csv\n",
            "24.csv\n",
            "25.csv\n",
            "26.csv\n",
            "27.csv\n",
            "28.csv\n",
            "29.csv\n",
            "30.csv\n",
            "31.csv\n",
            "32.csv\n",
            "33.csv\n",
            "34.csv\n",
            "35.csv\n",
            "36.csv\n",
            "37.csv\n",
            "38.csv\n",
            "39.csv\n",
            "40.csv\n",
            "41.csv\n",
            "42.csv\n",
            "43.csv\n",
            "44.csv\n",
            "45.csv\n",
            "46.csv\n",
            "47.csv\n",
            "48.csv\n",
            "49.csv\n",
            "50.csv\n",
            "51.csv\n",
            "52.csv\n",
            "53.csv\n",
            "54.csv\n",
            "55.csv\n",
            "56.csv\n",
            "57.csv\n",
            "58.csv\n",
            "59.csv\n",
            "60.csv\n",
            "61.csv\n",
            "62.csv\n",
            "63.csv\n",
            "64.csv\n",
            "65.csv\n",
            "66.csv\n",
            "67.csv\n",
            "68.csv\n",
            "69.csv\n",
            "70.csv\n",
            "71.csv\n",
            "72.csv\n",
            "73.csv\n",
            "74.csv\n",
            "75.csv\n",
            "76.csv\n",
            "77.csv\n",
            "78.csv\n",
            "79.csv\n",
            "80.csv\n",
            "81.csv\n",
            "82.csv\n",
            "83.csv\n",
            "84.csv\n",
            "85.csv\n",
            "86.csv\n",
            "87.csv\n",
            "88.csv\n",
            "89.csv\n",
            "90.csv\n",
            "91.csv\n",
            "92.csv\n",
            "93.csv\n",
            "94.csv\n",
            "95.csv\n",
            "96.csv\n",
            "97.csv\n",
            "98.csv\n",
            "99.csv\n",
            "100.csv\n",
            "101.csv\n",
            "102.csv\n",
            "103.csv\n",
            "104.csv\n",
            "105.csv\n",
            "106.csv\n",
            "107.csv\n",
            "108.csv\n",
            "109.csv\n",
            "110.csv\n",
            "111.csv\n",
            "112.csv\n",
            "113.csv\n",
            "114.csv\n",
            "115.csv\n",
            "116.csv\n",
            "117.csv\n",
            "118.csv\n",
            "119.csv\n",
            "120.csv\n",
            "121.csv\n",
            "122.csv\n",
            "123.csv\n",
            "124.csv\n",
            "125.csv\n",
            "126.csv\n",
            "127.csv\n",
            "128.csv\n",
            "129.csv\n",
            "130.csv\n",
            "131.csv\n",
            "132.csv\n",
            "133.csv\n",
            "134.csv\n",
            "135.csv\n",
            "136.csv\n",
            "137.csv\n",
            "138.csv\n",
            "139.csv\n",
            "140.csv\n",
            "141.csv\n",
            "142.csv\n",
            "143.csv\n",
            "144.csv\n",
            "145.csv\n",
            "146.csv\n",
            "147.csv\n",
            "148.csv\n",
            "149.csv\n",
            "150.csv\n",
            "151.csv\n",
            "152.csv\n",
            "153.csv\n",
            "154.csv\n",
            "155.csv\n",
            "156.csv\n",
            "157.csv\n",
            "158.csv\n",
            "159.csv\n",
            "160.csv\n",
            "161.csv\n",
            "162.csv\n",
            "163.csv\n",
            "164.csv\n",
            "165.csv\n",
            "166.csv\n",
            "167.csv\n",
            "168.csv\n",
            "169.csv\n",
            "170.csv\n",
            "171.csv\n",
            "172.csv\n",
            "173.csv\n",
            "174.csv\n",
            "175.csv\n",
            "176.csv\n",
            "177.csv\n",
            "178.csv\n",
            "179.csv\n",
            "180.csv\n",
            "181.csv\n",
            "182.csv\n",
            "183.csv\n",
            "184.csv\n",
            "185.csv\n",
            "186.csv\n",
            "187.csv\n",
            "188.csv\n",
            "189.csv\n",
            "190.csv\n",
            "191.csv\n",
            "192.csv\n",
            "193.csv\n",
            "194.csv\n",
            "195.csv\n",
            "196.csv\n",
            "197.csv\n",
            "198.csv\n",
            "199.csv\n",
            "200.csv\n",
            "201.csv\n",
            "202.csv\n",
            "203.csv\n",
            "204.csv\n",
            "205.csv\n",
            "206.csv\n",
            "207.csv\n",
            "208.csv\n",
            "209.csv\n",
            "210.csv\n",
            "211.csv\n",
            "212.csv\n",
            "213.csv\n",
            "214.csv\n",
            "215.csv\n",
            "216.csv\n",
            "217.csv\n",
            "218.csv\n",
            "219.csv\n",
            "220.csv\n",
            "221.csv\n",
            "222.csv\n",
            "223.csv\n",
            "224.csv\n",
            "225.csv\n",
            "226.csv\n",
            "227.csv\n",
            "228.csv\n",
            "229.csv\n",
            "230.csv\n",
            "231.csv\n",
            "232.csv\n",
            "233.csv\n",
            "234.csv\n",
            "235.csv\n",
            "236.csv\n",
            "237.csv\n",
            "238.csv\n",
            "239.csv\n",
            "240.csv\n",
            "241.csv\n",
            "242.csv\n",
            "243.csv\n",
            "244.csv\n",
            "245.csv\n",
            "246.csv\n",
            "247.csv\n",
            "248.csv\n",
            "249.csv\n",
            "250.csv\n",
            "251.csv\n",
            "252.csv\n",
            "253.csv\n",
            "254.csv\n",
            "255.csv\n",
            "256.csv\n",
            "257.csv\n",
            "258.csv\n",
            "259.csv\n",
            "260.csv\n",
            "261.csv\n",
            "262.csv\n",
            "263.csv\n",
            "264.csv\n",
            "265.csv\n",
            "266.csv\n",
            "267.csv\n",
            "268.csv\n",
            "269.csv\n",
            "270.csv\n",
            "271.csv\n",
            "272.csv\n",
            "273.csv\n",
            "274.csv\n",
            "275.csv\n",
            "276.csv\n",
            "277.csv\n",
            "278.csv\n",
            "279.csv\n",
            "280.csv\n",
            "281.csv\n",
            "282.csv\n",
            "283.csv\n",
            "284.csv\n",
            "285.csv\n",
            "286.csv\n",
            "287.csv\n",
            "288.csv\n",
            "289.csv\n",
            "290.csv\n",
            "291.csv\n",
            "292.csv\n",
            "293.csv\n",
            "294.csv\n",
            "295.csv\n",
            "296.csv\n",
            "297.csv\n",
            "298.csv\n",
            "299.csv\n",
            "300.csv\n",
            "301.csv\n",
            "302.csv\n",
            "303.csv\n",
            "304.csv\n",
            "305.csv\n",
            "306.csv\n",
            "307.csv\n",
            "308.csv\n",
            "309.csv\n",
            "310.csv\n",
            "311.csv\n",
            "312.csv\n",
            "313.csv\n",
            "314.csv\n",
            "315.csv\n",
            "316.csv\n",
            "317.csv\n",
            "318.csv\n",
            "319.csv\n",
            "320.csv\n",
            "321.csv\n",
            "322.csv\n",
            "323.csv\n",
            "324.csv\n",
            "325.csv\n",
            "326.csv\n",
            "327.csv\n",
            "328.csv\n",
            "329.csv\n",
            "330.csv\n",
            "331.csv\n",
            "332.csv\n",
            "333.csv\n",
            "334.csv\n",
            "335.csv\n",
            "336.csv\n",
            "337.csv\n",
            "338.csv\n",
            "339.csv\n",
            "340.csv\n",
            "341.csv\n",
            "342.csv\n",
            "343.csv\n",
            "344.csv\n",
            "345.csv\n",
            "346.csv\n",
            "347.csv\n",
            "348.csv\n",
            "349.csv\n",
            "350.csv\n",
            "351.csv\n",
            "352.csv\n",
            "353.csv\n",
            "354.csv\n",
            "355.csv\n",
            "356.csv\n",
            "357.csv\n",
            "358.csv\n",
            "359.csv\n",
            "360.csv\n",
            "361.csv\n",
            "362.csv\n",
            "363.csv\n",
            "364.csv\n",
            "365.csv\n",
            "366.csv\n",
            "367.csv\n",
            "368.csv\n",
            "369.csv\n",
            "370.csv\n",
            "371.csv\n",
            "372.csv\n",
            "373.csv\n",
            "374.csv\n",
            "375.csv\n",
            "376.csv\n",
            "377.csv\n",
            "378.csv\n",
            "379.csv\n",
            "380.csv\n",
            "381.csv\n",
            "382.csv\n",
            "383.csv\n",
            "384.csv\n",
            "385.csv\n",
            "386.csv\n",
            "387.csv\n",
            "388.csv\n",
            "389.csv\n",
            "390.csv\n",
            "391.csv\n",
            "392.csv\n",
            "393.csv\n",
            "394.csv\n",
            "395.csv\n",
            "396.csv\n",
            "397.csv\n",
            "398.csv\n",
            "399.csv\n",
            "400.csv\n",
            "401.csv\n",
            "402.csv\n",
            "403.csv\n",
            "404.csv\n",
            "405.csv\n",
            "406.csv\n",
            "407.csv\n",
            "408.csv\n",
            "409.csv\n",
            "410.csv\n",
            "411.csv\n",
            "412.csv\n",
            "413.csv\n",
            "414.csv\n",
            "415.csv\n",
            "416.csv\n",
            "417.csv\n",
            "418.csv\n",
            "419.csv\n",
            "420.csv\n",
            "421.csv\n",
            "422.csv\n",
            "423.csv\n",
            "424.csv\n",
            "425.csv\n",
            "426.csv\n",
            "427.csv\n",
            "428.csv\n",
            "429.csv\n",
            "430.csv\n",
            "431.csv\n",
            "432.csv\n",
            "433.csv\n",
            "434.csv\n",
            "435.csv\n",
            "436.csv\n",
            "437.csv\n",
            "438.csv\n",
            "439.csv\n",
            "440.csv\n",
            "441.csv\n",
            "442.csv\n",
            "443.csv\n",
            "444.csv\n",
            "445.csv\n",
            "446.csv\n",
            "447.csv\n",
            "448.csv\n",
            "449.csv\n",
            "450.csv\n",
            "451.csv\n",
            "452.csv\n",
            "453.csv\n",
            "454.csv\n",
            "455.csv\n",
            "456.csv\n",
            "457.csv\n",
            "458.csv\n",
            "459.csv\n",
            "460.csv\n",
            "461.csv\n",
            "462.csv\n",
            "463.csv\n",
            "464.csv\n",
            "465.csv\n",
            "466.csv\n",
            "467.csv\n",
            "468.csv\n",
            "469.csv\n",
            "470.csv\n",
            "471.csv\n",
            "472.csv\n",
            "473.csv\n",
            "474.csv\n",
            "475.csv\n",
            "476.csv\n",
            "477.csv\n",
            "478.csv\n",
            "479.csv\n",
            "480.csv\n",
            "481.csv\n",
            "482.csv\n",
            "483.csv\n",
            "484.csv\n",
            "485.csv\n",
            "486.csv\n",
            "487.csv\n",
            "488.csv\n",
            "489.csv\n",
            "490.csv\n",
            "491.csv\n",
            "492.csv\n",
            "493.csv\n",
            "494.csv\n",
            "495.csv\n",
            "496.csv\n",
            "497.csv\n",
            "498.csv\n",
            "499.csv\n",
            "500.csv\n",
            "501.csv\n",
            "502.csv\n",
            "503.csv\n",
            "504.csv\n",
            "505.csv\n",
            "506.csv\n",
            "507.csv\n",
            "508.csv\n",
            "509.csv\n",
            "510.csv\n",
            "511.csv\n",
            "512.csv\n",
            "513.csv\n",
            "514.csv\n",
            "515.csv\n",
            "516.csv\n",
            "517.csv\n",
            "518.csv\n",
            "519.csv\n",
            "520.csv\n",
            "521.csv\n",
            "522.csv\n",
            "523.csv\n",
            "524.csv\n",
            "525.csv\n",
            "526.csv\n",
            "527.csv\n",
            "528.csv\n",
            "529.csv\n",
            "530.csv\n",
            "531.csv\n",
            "532.csv\n",
            "533.csv\n",
            "534.csv\n",
            "535.csv\n",
            "536.csv\n",
            "537.csv\n",
            "538.csv\n",
            "539.csv\n",
            "540.csv\n",
            "541.csv\n",
            "542.csv\n",
            "543.csv\n",
            "544.csv\n",
            "545.csv\n",
            "546.csv\n",
            "547.csv\n",
            "548.csv\n",
            "549.csv\n",
            "550.csv\n",
            "551.csv\n",
            "552.csv\n",
            "553.csv\n",
            "554.csv\n",
            "555.csv\n",
            "556.csv\n",
            "557.csv\n",
            "558.csv\n",
            "559.csv\n",
            "560.csv\n",
            "561.csv\n",
            "562.csv\n",
            "563.csv\n",
            "564.csv\n",
            "565.csv\n",
            "566.csv\n",
            "567.csv\n",
            "568.csv\n",
            "569.csv\n",
            "570.csv\n",
            "571.csv\n",
            "572.csv\n",
            "573.csv\n",
            "574.csv\n",
            "575.csv\n",
            "576.csv\n",
            "577.csv\n",
            "578.csv\n",
            "579.csv\n",
            "580.csv\n",
            "581.csv\n",
            "582.csv\n",
            "583.csv\n",
            "584.csv\n",
            "585.csv\n",
            "586.csv\n",
            "587.csv\n",
            "588.csv\n",
            "589.csv\n",
            "590.csv\n",
            "591.csv\n",
            "592.csv\n",
            "593.csv\n",
            "594.csv\n",
            "595.csv\n",
            "596.csv\n",
            "597.csv\n",
            "598.csv\n",
            "599.csv\n",
            "600.csv\n",
            "601.csv\n",
            "602.csv\n",
            "603.csv\n",
            "604.csv\n",
            "605.csv\n",
            "606.csv\n",
            "607.csv\n",
            "608.csv\n",
            "609.csv\n",
            "610.csv\n",
            "611.csv\n",
            "612.csv\n",
            "613.csv\n",
            "614.csv\n",
            "615.csv\n",
            "616.csv\n",
            "617.csv\n",
            "618.csv\n",
            "619.csv\n",
            "620.csv\n",
            "621.csv\n",
            "622.csv\n",
            "623.csv\n",
            "624.csv\n",
            "625.csv\n",
            "626.csv\n",
            "627.csv\n",
            "628.csv\n",
            "629.csv\n",
            "630.csv\n",
            "631.csv\n",
            "632.csv\n",
            "633.csv\n",
            "634.csv\n",
            "635.csv\n",
            "636.csv\n",
            "637.csv\n",
            "638.csv\n",
            "639.csv\n",
            "640.csv\n",
            "641.csv\n",
            "642.csv\n",
            "643.csv\n",
            "644.csv\n",
            "645.csv\n",
            "646.csv\n",
            "647.csv\n",
            "648.csv\n",
            "649.csv\n",
            "650.csv\n",
            "651.csv\n",
            "652.csv\n",
            "653.csv\n",
            "654.csv\n",
            "655.csv\n",
            "656.csv\n",
            "657.csv\n",
            "658.csv\n",
            "659.csv\n",
            "660.csv\n",
            "661.csv\n",
            "662.csv\n",
            "663.csv\n",
            "664.csv\n",
            "665.csv\n",
            "666.csv\n",
            "667.csv\n",
            "668.csv\n",
            "669.csv\n",
            "670.csv\n",
            "671.csv\n",
            "672.csv\n",
            "673.csv\n",
            "674.csv\n",
            "675.csv\n",
            "676.csv\n",
            "677.csv\n",
            "678.csv\n",
            "679.csv\n",
            "680.csv\n",
            "681.csv\n",
            "682.csv\n",
            "683.csv\n",
            "684.csv\n",
            "685.csv\n",
            "686.csv\n",
            "687.csv\n",
            "688.csv\n",
            "689.csv\n",
            "690.csv\n",
            "691.csv\n",
            "692.csv\n",
            "693.csv\n",
            "694.csv\n",
            "695.csv\n",
            "696.csv\n",
            "697.csv\n",
            "698.csv\n",
            "699.csv\n",
            "700.csv\n",
            "701.csv\n",
            "702.csv\n",
            "703.csv\n",
            "704.csv\n",
            "705.csv\n",
            "706.csv\n",
            "707.csv\n",
            "708.csv\n",
            "709.csv\n",
            "710.csv\n",
            "711.csv\n",
            "712.csv\n",
            "713.csv\n",
            "714.csv\n",
            "715.csv\n",
            "716.csv\n",
            "717.csv\n",
            "718.csv\n",
            "719.csv\n",
            "720.csv\n",
            "721.csv\n",
            "722.csv\n",
            "723.csv\n",
            "724.csv\n",
            "725.csv\n",
            "726.csv\n",
            "727.csv\n",
            "728.csv\n",
            "729.csv\n",
            "730.csv\n",
            "731.csv\n",
            "732.csv\n",
            "733.csv\n",
            "734.csv\n",
            "735.csv\n",
            "736.csv\n",
            "737.csv\n",
            "738.csv\n",
            "739.csv\n",
            "740.csv\n",
            "741.csv\n",
            "742.csv\n",
            "743.csv\n",
            "744.csv\n",
            "745.csv\n",
            "746.csv\n",
            "747.csv\n",
            "748.csv\n",
            "749.csv\n",
            "750.csv\n",
            "751.csv\n",
            "752.csv\n",
            "753.csv\n",
            "754.csv\n",
            "755.csv\n",
            "756.csv\n",
            "757.csv\n",
            "758.csv\n",
            "759.csv\n",
            "760.csv\n",
            "761.csv\n",
            "762.csv\n",
            "763.csv\n",
            "764.csv\n",
            "765.csv\n",
            "766.csv\n",
            "767.csv\n",
            "768.csv\n",
            "769.csv\n",
            "770.csv\n",
            "771.csv\n",
            "772.csv\n",
            "773.csv\n",
            "774.csv\n",
            "775.csv\n",
            "776.csv\n",
            "777.csv\n",
            "778.csv\n",
            "779.csv\n",
            "780.csv\n",
            "781.csv\n",
            "782.csv\n",
            "783.csv\n",
            "784.csv\n",
            "785.csv\n",
            "786.csv\n",
            "787.csv\n",
            "788.csv\n",
            "789.csv\n",
            "790.csv\n",
            "791.csv\n",
            "792.csv\n",
            "793.csv\n",
            "794.csv\n",
            "795.csv\n",
            "796.csv\n",
            "797.csv\n",
            "798.csv\n",
            "799.csv\n",
            "800.csv\n",
            "801.csv\n",
            "802.csv\n",
            "803.csv\n",
            "804.csv\n",
            "805.csv\n",
            "806.csv\n",
            "807.csv\n",
            "808.csv\n",
            "809.csv\n",
            "810.csv\n",
            "811.csv\n",
            "812.csv\n",
            "813.csv\n",
            "814.csv\n",
            "815.csv\n",
            "816.csv\n",
            "817.csv\n",
            "818.csv\n",
            "819.csv\n",
            "820.csv\n",
            "821.csv\n",
            "822.csv\n",
            "823.csv\n",
            "824.csv\n",
            "825.csv\n",
            "826.csv\n",
            "827.csv\n",
            "828.csv\n",
            "829.csv\n",
            "830.csv\n",
            "831.csv\n",
            "832.csv\n",
            "833.csv\n",
            "834.csv\n",
            "835.csv\n",
            "836.csv\n",
            "837.csv\n",
            "838.csv\n",
            "839.csv\n",
            "840.csv\n",
            "841.csv\n",
            "842.csv\n",
            "843.csv\n",
            "844.csv\n",
            "845.csv\n",
            "846.csv\n",
            "847.csv\n",
            "848.csv\n",
            "849.csv\n",
            "850.csv\n",
            "851.csv\n",
            "852.csv\n",
            "853.csv\n",
            "854.csv\n",
            "855.csv\n",
            "856.csv\n",
            "857.csv\n",
            "858.csv\n",
            "859.csv\n",
            "860.csv\n",
            "861.csv\n",
            "862.csv\n",
            "863.csv\n",
            "864.csv\n",
            "865.csv\n",
            "866.csv\n",
            "867.csv\n",
            "868.csv\n",
            "869.csv\n",
            "870.csv\n",
            "871.csv\n",
            "872.csv\n",
            "873.csv\n",
            "874.csv\n",
            "875.csv\n",
            "876.csv\n",
            "877.csv\n",
            "878.csv\n",
            "879.csv\n",
            "880.csv\n",
            "881.csv\n",
            "882.csv\n",
            "883.csv\n",
            "884.csv\n",
            "885.csv\n",
            "886.csv\n",
            "887.csv\n",
            "888.csv\n"
          ],
          "name": "stdout"
        }
      ]
    },
    {
      "cell_type": "code",
      "metadata": {
        "id": "Se7UEOUKqHxg",
        "colab_type": "code",
        "colab": {}
      },
      "source": [
        "X = np.asarray(X)"
      ],
      "execution_count": 0,
      "outputs": []
    },
    {
      "cell_type": "code",
      "metadata": {
        "id": "jKmM2d6UvSll",
        "colab_type": "code",
        "colab": {
          "base_uri": "https://localhost:8080/",
          "height": 34
        },
        "outputId": "69c5a716-d3fb-410e-bc7d-1283008a02f9"
      },
      "source": [
        "X.shape"
      ],
      "execution_count": 8,
      "outputs": [
        {
          "output_type": "execute_result",
          "data": {
            "text/plain": [
              "(889, 111, 3)"
            ]
          },
          "metadata": {
            "tags": []
          },
          "execution_count": 8
        }
      ]
    },
    {
      "cell_type": "code",
      "metadata": {
        "id": "HxEsei-qDVDP",
        "colab_type": "code",
        "colab": {}
      },
      "source": [
        "y = y[1]"
      ],
      "execution_count": 0,
      "outputs": []
    },
    {
      "cell_type": "code",
      "metadata": {
        "id": "gwJbhXynvhXW",
        "colab_type": "code",
        "colab": {
          "base_uri": "https://localhost:8080/",
          "height": 34
        },
        "outputId": "7330ac4e-0b13-4ca6-eeed-eb74557acefe"
      },
      "source": [
        "y.shape"
      ],
      "execution_count": 10,
      "outputs": [
        {
          "output_type": "execute_result",
          "data": {
            "text/plain": [
              "(889,)"
            ]
          },
          "metadata": {
            "tags": []
          },
          "execution_count": 10
        }
      ]
    },
    {
      "cell_type": "markdown",
      "metadata": {
        "id": "4gIRetxSxOw_",
        "colab_type": "text"
      },
      "source": [
        "# Custom Attention Model"
      ]
    },
    {
      "cell_type": "code",
      "metadata": {
        "id": "x-K3IqbIxeII",
        "colab_type": "code",
        "colab": {}
      },
      "source": [
        "from tensorflow.keras import layers"
      ],
      "execution_count": 0,
      "outputs": []
    },
    {
      "cell_type": "code",
      "metadata": {
        "id": "wwXGsAV4wB8x",
        "colab_type": "code",
        "colab": {}
      },
      "source": [
        "# Defining pathway attention\n",
        "\n",
        "class Pathway_Attention(layers.Layer):\n",
        "\n",
        "  def __init__(self, a, d, p):\n",
        "    super(Pathway_Attention, self).__init__()\n",
        "    self.units = a\n",
        "    self.input_dim = d\n",
        "    self.alpha_dim = p\n",
        "\n",
        "    self.w = self.add_weight(shape=(self.input_dim, self.units),\n",
        "                             initializer='random_normal',\n",
        "                             trainable=True)\n",
        "    self.b = self.add_weight(shape=(self.units,),\n",
        "                             initializer='zeros',\n",
        "                             trainable=True)\n",
        "    self.u = self.add_weight(shape=(self.units,),\n",
        "                             initializer='random_normal',\n",
        "                             trainable=True)\n",
        "    self.alpha = self.add_weight(shape=(self.alpha_dim,),\n",
        "                             initializer='zeros',\n",
        "                             trainable=False)\n",
        "\n",
        "  def call(self, inputs):\n",
        "    y_att = tf.math.tanh(tf.matmul(inputs, self.w) + self.b)\n",
        "    logits = tf.linalg.matvec(y_att, self.u)\n",
        "    # print(logits.shape)\n",
        "    self.alpha = tf.nn.softmax(logits)\n",
        "    return tf.transpose(tf.linalg.matvec(tf.transpose(inputs), self.alpha))\n"
      ],
      "execution_count": 0,
      "outputs": []
    },
    {
      "cell_type": "code",
      "metadata": {
        "id": "8tZKxAZZ5rli",
        "colab_type": "code",
        "colab": {}
      },
      "source": [
        "class EnsembleBlock(layers.Layer):\n",
        "\n",
        "  def __init__(self):\n",
        "    super(EnsembleBlock, self).__init__()\n",
        "    self.ensemble_1 = Pathway_Attention(a=4, d=3, p=111)\n",
        "    self.ensemble_2 = Pathway_Attention(a=4, d=3, p=111)\n",
        "    self.ensemble_3 = Pathway_Attention(a=4, d=3, p=111)\n",
        "    self.ensemble_4 = Pathway_Attention(a=4, d=3, p=111)\n",
        "    self.ensemble_5 = Pathway_Attention(a=4, d=3, p=111)\n",
        "    self.ensemble_6 = Pathway_Attention(a=4, d=3, p=111)\n",
        "    self.ensemble_7 = Pathway_Attention(a=4, d=3, p=111)\n",
        "    self.ensemble_8 = Pathway_Attention(a=4, d=3, p=111)\n",
        "    self.ensemble_9 = Pathway_Attention(a=4, d=3, p=111)\n",
        "    self.ensemble_10 = Pathway_Attention(a=4, d=3, p=111)\n",
        "    self.ensemble_11 = Pathway_Attention(a=4, d=3, p=111)\n",
        "    self.final = Pathway_Attention(a=4, d=3, p=11)\n",
        "\n",
        "  def call(self, inputs):\n",
        "    h1 = self.ensemble_1(inputs)\n",
        "    h2 = self.ensemble_2(inputs)\n",
        "    h3 = self.ensemble_3(inputs)\n",
        "    h4 = self.ensemble_4(inputs)\n",
        "    h5 = self.ensemble_5(inputs)\n",
        "    h6 = self.ensemble_6(inputs)\n",
        "    h7 = self.ensemble_7(inputs)\n",
        "    h8 = self.ensemble_8(inputs)\n",
        "    h9 = self.ensemble_9(inputs)\n",
        "    h10 = self.ensemble_10(inputs)\n",
        "    h11 = self.ensemble_11(inputs)\n",
        "    h_mgd = [h1, h2, h3, h4, h5, h6, h7, h8, h9, h10, h11]\n",
        "    h_mgd = tf.convert_to_tensor(h_mgd, dtype=tf.float32)\n",
        "    return self.final(h_mgd)\n"
      ],
      "execution_count": 0,
      "outputs": []
    },
    {
      "cell_type": "code",
      "metadata": {
        "id": "-7NQmudC98GW",
        "colab_type": "code",
        "colab": {}
      },
      "source": [
        "class MAE_Model(tf.keras.Model):\n",
        "\n",
        "    def __init__(self):\n",
        "        super(MAE_Model, self).__init__()\n",
        "        self.h_fin = EnsembleBlock()\n",
        "        self.ipt = tf.keras.layers.InputLayer(input_shape=(1,3), batch_size=None)\n",
        "        self.fc_1 = tf.keras.layers.Dense(16, activation='relu')\n",
        "        self.fc_2 = tf.keras.layers.Dense(8, activation='relu')\n",
        "        self.classifier = tf.keras.layers.Dense(3, activation='softmax')\n",
        "\n",
        "    def call(self, inputs):\n",
        "        x = self.h_fin(inputs)\n",
        "        x = tf.reshape(x, (1,3))\n",
        "        # print(x)\n",
        "        x = self.ipt(x)\n",
        "        x = self.fc_1(x)\n",
        "        x = self.fc_2(x)\n",
        "        return self.classifier(x)\n"
      ],
      "execution_count": 0,
      "outputs": []
    },
    {
      "cell_type": "code",
      "metadata": {
        "id": "5c5fMOhbBb0k",
        "colab_type": "code",
        "colab": {}
      },
      "source": [
        "mae = MAE_Model()"
      ],
      "execution_count": 0,
      "outputs": []
    },
    {
      "cell_type": "code",
      "metadata": {
        "id": "pqmWgKe2CIMT",
        "colab_type": "code",
        "colab": {}
      },
      "source": [
        "optimizer = tf.keras.optimizers.Adam(learning_rate=1e-3)\n",
        "ce_loss_fn = tf.keras.losses.CategoricalCrossentropy()"
      ],
      "execution_count": 0,
      "outputs": []
    },
    {
      "cell_type": "code",
      "metadata": {
        "id": "p40HYLXQH9FR",
        "colab_type": "code",
        "colab": {}
      },
      "source": [
        "acc_metric = tf.keras.metrics.Accuracy()"
      ],
      "execution_count": 0,
      "outputs": []
    },
    {
      "cell_type": "code",
      "metadata": {
        "id": "odgNRszhIqoA",
        "colab_type": "code",
        "colab": {}
      },
      "source": [
        "from sklearn.model_selection import train_test_split\n",
        "X_train, X_test, y_train, y_test = train_test_split(X, y, test_size=0.25, stratify=y, random_state=42)"
      ],
      "execution_count": 0,
      "outputs": []
    },
    {
      "cell_type": "code",
      "metadata": {
        "id": "yfKNwfW5SFO8",
        "colab_type": "code",
        "colab": {
          "base_uri": "https://localhost:8080/",
          "height": 34
        },
        "outputId": "b3f85ffd-8d97-43c4-e4ef-6cb6ede0d817"
      },
      "source": [
        "X_train.shape, X_test.shape, y_train.shape, y_test.shape"
      ],
      "execution_count": 19,
      "outputs": [
        {
          "output_type": "execute_result",
          "data": {
            "text/plain": [
              "((666, 111, 3), (223, 111, 3), (666,), (223,))"
            ]
          },
          "metadata": {
            "tags": []
          },
          "execution_count": 19
        }
      ]
    },
    {
      "cell_type": "code",
      "metadata": {
        "id": "zCc-bL-KCunk",
        "colab_type": "code",
        "colab": {}
      },
      "source": [
        "dataset_train = tf.data.Dataset.from_tensor_slices((X_train, y_train))"
      ],
      "execution_count": 0,
      "outputs": []
    },
    {
      "cell_type": "code",
      "metadata": {
        "id": "7kKXpIYRDr78",
        "colab_type": "code",
        "colab": {
          "base_uri": "https://localhost:8080/",
          "height": 479
        },
        "outputId": "0866a554-d0b7-4db2-ad2e-d092711a7691"
      },
      "source": [
        "epochs = 10\n",
        "\n",
        "for epoch in range(epochs):\n",
        "  print('Start of epoch %d' % (epoch,))\n",
        "\n",
        "  # Iterate over the batches of the dataset.\n",
        "  for train_x, train_y in dataset_train:\n",
        "    with tf.GradientTape() as tape:\n",
        "      preds = mae(train_x)\n",
        "      # Compute reconstruction loss\n",
        "      train_y = tf.one_hot(train_y, depth=3)\n",
        "      # print(preds)\n",
        "      train_y = tf.reshape(train_y, (1,3))\n",
        "      # print(y_train)\n",
        "      loss = ce_loss_fn(train_y, preds)\n",
        "      # print(loss)\n",
        "\n",
        "    grads = tape.gradient(loss, mae.trainable_weights)\n",
        "    optimizer.apply_gradients(zip(grads, mae.trainable_weights))\n",
        "\n",
        "    acc_metric.update_state(np.argmax(train_y), np.argmax(preds))\n",
        "\n",
        "  print('epoch %s: train mean accc = %s' % (epoch, acc_metric.result()))"
      ],
      "execution_count": 21,
      "outputs": [
        {
          "output_type": "stream",
          "text": [
            "Start of epoch 0\n",
            "WARNING:tensorflow:Layer mae__model is casting an input tensor from dtype float64 to the layer's dtype of float32, which is new behavior in TensorFlow 2.  The layer has dtype float32 because it's dtype defaults to floatx.\n",
            "\n",
            "If you intended to run this layer in float32, you can safely ignore this warning. If in doubt, this warning is likely only an issue if you are porting a TensorFlow 1.X model to TensorFlow 2.\n",
            "\n",
            "To change all layers to have dtype float64 by default, call `tf.keras.backend.set_floatx('float64')`. To change just this layer, pass dtype='float64' to the layer constructor. If you are the author of this layer, you can disable autocasting by passing autocast=False to the base Layer constructor.\n",
            "\n",
            "epoch 0: train mean accc = tf.Tensor(0.8798799, shape=(), dtype=float32)\n",
            "Start of epoch 1\n",
            "epoch 1: train mean accc = tf.Tensor(0.9226727, shape=(), dtype=float32)\n",
            "Start of epoch 2\n",
            "epoch 2: train mean accc = tf.Tensor(0.9379379, shape=(), dtype=float32)\n",
            "Start of epoch 3\n",
            "epoch 3: train mean accc = tf.Tensor(0.9455706, shape=(), dtype=float32)\n",
            "Start of epoch 4\n",
            "epoch 4: train mean accc = tf.Tensor(0.95015013, shape=(), dtype=float32)\n",
            "Start of epoch 5\n",
            "epoch 5: train mean accc = tf.Tensor(0.952953, shape=(), dtype=float32)\n",
            "Start of epoch 6\n",
            "epoch 6: train mean accc = tf.Tensor(0.954955, shape=(), dtype=float32)\n",
            "Start of epoch 7\n",
            "epoch 7: train mean accc = tf.Tensor(0.9566441, shape=(), dtype=float32)\n",
            "Start of epoch 8\n",
            "epoch 8: train mean accc = tf.Tensor(0.957958, shape=(), dtype=float32)\n",
            "Start of epoch 9\n",
            "epoch 9: train mean accc = tf.Tensor(0.959009, shape=(), dtype=float32)\n"
          ],
          "name": "stdout"
        }
      ]
    },
    {
      "cell_type": "code",
      "metadata": {
        "id": "GfbUnd8nL4vy",
        "colab_type": "code",
        "colab": {}
      },
      "source": [
        "dataset_test = tf.data.Dataset.from_tensor_slices((X_test, y_test))"
      ],
      "execution_count": 0,
      "outputs": []
    },
    {
      "cell_type": "code",
      "metadata": {
        "id": "G4jx8YHMML5B",
        "colab_type": "code",
        "colab": {}
      },
      "source": [
        "y_test_preds = []\n",
        "y_true = []"
      ],
      "execution_count": 0,
      "outputs": []
    },
    {
      "cell_type": "code",
      "metadata": {
        "id": "IiVCR9n9MT0N",
        "colab_type": "code",
        "colab": {}
      },
      "source": [
        "for test_x, test_y in dataset_test:\n",
        "   p = mae(test_x)\n",
        "   y_test_preds.append(tf.argmax(p, axis=-1))\n",
        "   y_true.append(test_y)"
      ],
      "execution_count": 0,
      "outputs": []
    },
    {
      "cell_type": "code",
      "metadata": {
        "id": "xMmNemK3MiP0",
        "colab_type": "code",
        "colab": {
          "base_uri": "https://localhost:8080/",
          "height": 187
        },
        "outputId": "b60a8a50-85d7-46fc-a323-3e7bbb88eb70"
      },
      "source": [
        "from sklearn.metrics import classification_report\n",
        "target_names = ['class 0', 'class 1', 'class 2']\n",
        "print(classification_report(y_true, y_test_preds, target_names=target_names))"
      ],
      "execution_count": 25,
      "outputs": [
        {
          "output_type": "stream",
          "text": [
            "              precision    recall  f1-score   support\n",
            "\n",
            "     class 0       0.97      0.95      0.96        73\n",
            "     class 1       0.98      0.98      0.98       130\n",
            "     class 2       0.91      1.00      0.95        20\n",
            "\n",
            "    accuracy                           0.97       223\n",
            "   macro avg       0.95      0.97      0.96       223\n",
            "weighted avg       0.97      0.97      0.97       223\n",
            "\n"
          ],
          "name": "stdout"
        }
      ]
    },
    {
      "cell_type": "code",
      "metadata": {
        "id": "KxVsweIUMlSO",
        "colab_type": "code",
        "colab": {}
      },
      "source": [
        ""
      ],
      "execution_count": 0,
      "outputs": []
    },
    {
      "cell_type": "markdown",
      "metadata": {
        "id": "7fD6N4xYlCAP",
        "colab_type": "text"
      },
      "source": [
        "# Stratified K-fold"
      ]
    },
    {
      "cell_type": "code",
      "metadata": {
        "id": "OUmf5m_5lEDd",
        "colab_type": "code",
        "colab": {}
      },
      "source": [
        "from sklearn.model_selection import StratifiedKFold\n",
        "skf = StratifiedKFold(n_splits=5, random_state=0, shuffle=True)"
      ],
      "execution_count": 0,
      "outputs": []
    },
    {
      "cell_type": "code",
      "metadata": {
        "id": "3nRn9oTHlKld",
        "colab_type": "code",
        "colab": {
          "base_uri": "https://localhost:8080/",
          "height": 1000
        },
        "outputId": "6204d184-1c8f-4fe4-dde7-35865b6fb44e"
      },
      "source": [
        "for train_index, test_index in skf.split(X, y):\n",
        "  X_train, X_test = X[train_index], X[test_index]\n",
        "  y_train, y_test = y[train_index], y[test_index]\n",
        "  dataset_train = tf.data.Dataset.from_tensor_slices((X_train, y_train))\n",
        "  dataset_test = tf.data.Dataset.from_tensor_slices((X_test, y_test))\n",
        "  print(\"------------FOLD---------------\")\n",
        "  mae = MAE_Model()\n",
        "  acc_metric = tf.keras.metrics.Accuracy()\n",
        "  optimizer = tf.keras.optimizers.Adam(learning_rate=1e-3)\n",
        "  ce_loss_fn = tf.keras.losses.CategoricalCrossentropy()\n",
        "\n",
        "  for epoch in range(10):\n",
        "    print('Start of epoch %d' % (epoch,))\n",
        "\n",
        "    # Iterate over the batches of the dataset.\n",
        "    for train_x, train_y in dataset_train:\n",
        "      with tf.GradientTape() as tape:\n",
        "        preds = mae(train_x)\n",
        "        # Compute reconstruction loss\n",
        "        train_y = tf.one_hot(train_y, depth=3)\n",
        "        # print(preds)\n",
        "        train_y = tf.reshape(train_y, (1,3))\n",
        "        # print(y_train)\n",
        "        loss = ce_loss_fn(train_y, preds)\n",
        "        # print(loss)\n",
        "\n",
        "      grads = tape.gradient(loss, mae.trainable_weights)\n",
        "      optimizer.apply_gradients(zip(grads, mae.trainable_weights))\n",
        "\n",
        "      acc_metric.update_state(np.argmax(train_y), np.argmax(preds))\n",
        "\n",
        "    print('epoch %s: train mean accc = %s' % (epoch, acc_metric.result()))\n",
        "  \n",
        "  y_test_preds = []\n",
        "  y_true = []\n",
        "  for test_x, test_y in dataset_test:\n",
        "    p = mae(test_x)\n",
        "    y_test_preds.append(tf.argmax(p, axis=-1))\n",
        "    y_true.append(test_y)\n",
        "  target_names = ['class 0', 'class 1', 'class 2']\n",
        "  print(classification_report(y_true, y_test_preds, target_names=target_names))"
      ],
      "execution_count": 27,
      "outputs": [
        {
          "output_type": "stream",
          "text": [
            "------------FOLD---------------\n",
            "Start of epoch 0\n",
            "WARNING:tensorflow:Layer mae__model_1 is casting an input tensor from dtype float64 to the layer's dtype of float32, which is new behavior in TensorFlow 2.  The layer has dtype float32 because it's dtype defaults to floatx.\n",
            "\n",
            "If you intended to run this layer in float32, you can safely ignore this warning. If in doubt, this warning is likely only an issue if you are porting a TensorFlow 1.X model to TensorFlow 2.\n",
            "\n",
            "To change all layers to have dtype float64 by default, call `tf.keras.backend.set_floatx('float64')`. To change just this layer, pass dtype='float64' to the layer constructor. If you are the author of this layer, you can disable autocasting by passing autocast=False to the base Layer constructor.\n",
            "\n",
            "epoch 0: train mean accc = tf.Tensor(0.8101266, shape=(), dtype=float32)\n",
            "Start of epoch 1\n",
            "epoch 1: train mean accc = tf.Tensor(0.87482417, shape=(), dtype=float32)\n",
            "Start of epoch 2\n",
            "epoch 2: train mean accc = tf.Tensor(0.90904826, shape=(), dtype=float32)\n",
            "Start of epoch 3\n",
            "epoch 3: train mean accc = tf.Tensor(0.9254571, shape=(), dtype=float32)\n",
            "Start of epoch 4\n",
            "epoch 4: train mean accc = tf.Tensor(0.9350211, shape=(), dtype=float32)\n",
            "Start of epoch 5\n",
            "epoch 5: train mean accc = tf.Tensor(0.9413971, shape=(), dtype=float32)\n",
            "Start of epoch 6\n",
            "epoch 6: train mean accc = tf.Tensor(0.9457505, shape=(), dtype=float32)\n",
            "Start of epoch 7\n",
            "epoch 7: train mean accc = tf.Tensor(0.9490155, shape=(), dtype=float32)\n",
            "Start of epoch 8\n",
            "epoch 8: train mean accc = tf.Tensor(0.95155495, shape=(), dtype=float32)\n",
            "Start of epoch 9\n",
            "epoch 9: train mean accc = tf.Tensor(0.9535865, shape=(), dtype=float32)\n",
            "              precision    recall  f1-score   support\n",
            "\n",
            "     class 0       1.00      0.90      0.95        58\n",
            "     class 1       0.95      0.98      0.97       104\n",
            "     class 2       0.84      1.00      0.91        16\n",
            "\n",
            "    accuracy                           0.96       178\n",
            "   macro avg       0.93      0.96      0.94       178\n",
            "weighted avg       0.96      0.96      0.96       178\n",
            "\n",
            "------------FOLD---------------\n",
            "Start of epoch 0\n",
            "WARNING:tensorflow:Layer mae__model_2 is casting an input tensor from dtype float64 to the layer's dtype of float32, which is new behavior in TensorFlow 2.  The layer has dtype float32 because it's dtype defaults to floatx.\n",
            "\n",
            "If you intended to run this layer in float32, you can safely ignore this warning. If in doubt, this warning is likely only an issue if you are porting a TensorFlow 1.X model to TensorFlow 2.\n",
            "\n",
            "To change all layers to have dtype float64 by default, call `tf.keras.backend.set_floatx('float64')`. To change just this layer, pass dtype='float64' to the layer constructor. If you are the author of this layer, you can disable autocasting by passing autocast=False to the base Layer constructor.\n",
            "\n",
            "epoch 0: train mean accc = tf.Tensor(0.8410689, shape=(), dtype=float32)\n",
            "Start of epoch 1\n",
            "epoch 1: train mean accc = tf.Tensor(0.8649789, shape=(), dtype=float32)\n",
            "Start of epoch 2\n",
            "epoch 2: train mean accc = tf.Tensor(0.88982654, shape=(), dtype=float32)\n",
            "Start of epoch 3\n",
            "epoch 3: train mean accc = tf.Tensor(0.9096343, shape=(), dtype=float32)\n",
            "Start of epoch 4\n",
            "epoch 4: train mean accc = tf.Tensor(0.9220816, shape=(), dtype=float32)\n",
            "Start of epoch 5\n",
            "epoch 5: train mean accc = tf.Tensor(0.93037975, shape=(), dtype=float32)\n",
            "Start of epoch 6\n",
            "epoch 6: train mean accc = tf.Tensor(0.936307, shape=(), dtype=float32)\n",
            "Start of epoch 7\n",
            "epoch 7: train mean accc = tf.Tensor(0.94075245, shape=(), dtype=float32)\n",
            "Start of epoch 8\n",
            "epoch 8: train mean accc = tf.Tensor(0.94405377, shape=(), dtype=float32)\n",
            "Start of epoch 9\n",
            "epoch 9: train mean accc = tf.Tensor(0.9466948, shape=(), dtype=float32)\n",
            "              precision    recall  f1-score   support\n",
            "\n",
            "     class 0       1.00      0.91      0.95        58\n",
            "     class 1       0.95      1.00      0.97       104\n",
            "     class 2       1.00      0.94      0.97        16\n",
            "\n",
            "    accuracy                           0.97       178\n",
            "   macro avg       0.98      0.95      0.96       178\n",
            "weighted avg       0.97      0.97      0.97       178\n",
            "\n",
            "------------FOLD---------------\n",
            "Start of epoch 0\n",
            "WARNING:tensorflow:Layer mae__model_3 is casting an input tensor from dtype float64 to the layer's dtype of float32, which is new behavior in TensorFlow 2.  The layer has dtype float32 because it's dtype defaults to floatx.\n",
            "\n",
            "If you intended to run this layer in float32, you can safely ignore this warning. If in doubt, this warning is likely only an issue if you are porting a TensorFlow 1.X model to TensorFlow 2.\n",
            "\n",
            "To change all layers to have dtype float64 by default, call `tf.keras.backend.set_floatx('float64')`. To change just this layer, pass dtype='float64' to the layer constructor. If you are the author of this layer, you can disable autocasting by passing autocast=False to the base Layer constructor.\n",
            "\n",
            "epoch 0: train mean accc = tf.Tensor(0.8607595, shape=(), dtype=float32)\n",
            "Start of epoch 1\n",
            "epoch 1: train mean accc = tf.Tensor(0.89803094, shape=(), dtype=float32)\n",
            "Start of epoch 2\n",
            "epoch 2: train mean accc = tf.Tensor(0.9217065, shape=(), dtype=float32)\n",
            "Start of epoch 3\n",
            "epoch 3: train mean accc = tf.Tensor(0.93424755, shape=(), dtype=float32)\n",
            "Start of epoch 4\n",
            "epoch 4: train mean accc = tf.Tensor(0.94177216, shape=(), dtype=float32)\n",
            "Start of epoch 5\n",
            "epoch 5: train mean accc = tf.Tensor(0.947023, shape=(), dtype=float32)\n",
            "Start of epoch 6\n",
            "epoch 6: train mean accc = tf.Tensor(0.9505726, shape=(), dtype=float32)\n",
            "Start of epoch 7\n",
            "epoch 7: train mean accc = tf.Tensor(0.95323485, shape=(), dtype=float32)\n",
            "Start of epoch 8\n",
            "epoch 8: train mean accc = tf.Tensor(0.9553055, shape=(), dtype=float32)\n",
            "Start of epoch 9\n",
            "epoch 9: train mean accc = tf.Tensor(0.95696205, shape=(), dtype=float32)\n",
            "              precision    recall  f1-score   support\n",
            "\n",
            "     class 0       0.96      0.93      0.95        58\n",
            "     class 1       0.97      0.95      0.96       104\n",
            "     class 2       0.80      1.00      0.89        16\n",
            "\n",
            "    accuracy                           0.95       178\n",
            "   macro avg       0.91      0.96      0.93       178\n",
            "weighted avg       0.95      0.95      0.95       178\n",
            "\n",
            "------------FOLD---------------\n",
            "Start of epoch 0\n",
            "WARNING:tensorflow:Layer mae__model_4 is casting an input tensor from dtype float64 to the layer's dtype of float32, which is new behavior in TensorFlow 2.  The layer has dtype float32 because it's dtype defaults to floatx.\n",
            "\n",
            "If you intended to run this layer in float32, you can safely ignore this warning. If in doubt, this warning is likely only an issue if you are porting a TensorFlow 1.X model to TensorFlow 2.\n",
            "\n",
            "To change all layers to have dtype float64 by default, call `tf.keras.backend.set_floatx('float64')`. To change just this layer, pass dtype='float64' to the layer constructor. If you are the author of this layer, you can disable autocasting by passing autocast=False to the base Layer constructor.\n",
            "\n",
            "epoch 0: train mean accc = tf.Tensor(0.73558366, shape=(), dtype=float32)\n",
            "Start of epoch 1\n",
            "epoch 1: train mean accc = tf.Tensor(0.8030942, shape=(), dtype=float32)\n",
            "Start of epoch 2\n",
            "epoch 2: train mean accc = tf.Tensor(0.83169246, shape=(), dtype=float32)\n",
            "Start of epoch 3\n",
            "epoch 3: train mean accc = tf.Tensor(0.84739804, shape=(), dtype=float32)\n",
            "Start of epoch 4\n",
            "epoch 4: train mean accc = tf.Tensor(0.86779183, shape=(), dtype=float32)\n",
            "Start of epoch 5\n",
            "epoch 5: train mean accc = tf.Tensor(0.8846695, shape=(), dtype=float32)\n",
            "Start of epoch 6\n",
            "epoch 6: train mean accc = tf.Tensor(0.8963231, shape=(), dtype=float32)\n",
            "Start of epoch 7\n",
            "epoch 7: train mean accc = tf.Tensor(0.9050633, shape=(), dtype=float32)\n",
            "Start of epoch 8\n",
            "epoch 8: train mean accc = tf.Tensor(0.91186124, shape=(), dtype=float32)\n",
            "Start of epoch 9\n",
            "epoch 9: train mean accc = tf.Tensor(0.91729957, shape=(), dtype=float32)\n",
            "              precision    recall  f1-score   support\n",
            "\n",
            "     class 0       1.00      0.93      0.96        58\n",
            "     class 1       0.97      0.99      0.98       103\n",
            "     class 2       0.89      1.00      0.94        17\n",
            "\n",
            "    accuracy                           0.97       178\n",
            "   macro avg       0.96      0.97      0.96       178\n",
            "weighted avg       0.97      0.97      0.97       178\n",
            "\n",
            "------------FOLD---------------\n",
            "Start of epoch 0\n",
            "WARNING:tensorflow:Layer mae__model_5 is casting an input tensor from dtype float64 to the layer's dtype of float32, which is new behavior in TensorFlow 2.  The layer has dtype float32 because it's dtype defaults to floatx.\n",
            "\n",
            "If you intended to run this layer in float32, you can safely ignore this warning. If in doubt, this warning is likely only an issue if you are porting a TensorFlow 1.X model to TensorFlow 2.\n",
            "\n",
            "To change all layers to have dtype float64 by default, call `tf.keras.backend.set_floatx('float64')`. To change just this layer, pass dtype='float64' to the layer constructor. If you are the author of this layer, you can disable autocasting by passing autocast=False to the base Layer constructor.\n",
            "\n",
            "epoch 0: train mean accc = tf.Tensor(0.73876405, shape=(), dtype=float32)\n",
            "Start of epoch 1\n",
            "epoch 1: train mean accc = tf.Tensor(0.82092696, shape=(), dtype=float32)\n",
            "Start of epoch 2\n",
            "epoch 2: train mean accc = tf.Tensor(0.86750937, shape=(), dtype=float32)\n",
            "Start of epoch 3\n",
            "epoch 3: train mean accc = tf.Tensor(0.89325845, shape=(), dtype=float32)\n",
            "Start of epoch 4\n",
            "epoch 4: train mean accc = tf.Tensor(0.90786517, shape=(), dtype=float32)\n",
            "Start of epoch 5\n",
            "epoch 5: train mean accc = tf.Tensor(0.917603, shape=(), dtype=float32)\n",
            "Start of epoch 6\n",
            "epoch 6: train mean accc = tf.Tensor(0.9247592, shape=(), dtype=float32)\n",
            "Start of epoch 7\n",
            "epoch 7: train mean accc = tf.Tensor(0.9301264, shape=(), dtype=float32)\n",
            "Start of epoch 8\n",
            "epoch 8: train mean accc = tf.Tensor(0.9343009, shape=(), dtype=float32)\n",
            "Start of epoch 9\n",
            "epoch 9: train mean accc = tf.Tensor(0.9376404, shape=(), dtype=float32)\n",
            "              precision    recall  f1-score   support\n",
            "\n",
            "     class 0       1.00      0.93      0.96        58\n",
            "     class 1       0.95      0.99      0.97       103\n",
            "     class 2       0.94      0.94      0.94        16\n",
            "\n",
            "    accuracy                           0.97       177\n",
            "   macro avg       0.96      0.95      0.96       177\n",
            "weighted avg       0.97      0.97      0.97       177\n",
            "\n"
          ],
          "name": "stdout"
        }
      ]
    },
    {
      "cell_type": "code",
      "metadata": {
        "id": "9r5mGc95litT",
        "colab_type": "code",
        "colab": {
          "base_uri": "https://localhost:8080/",
          "height": 282
        },
        "outputId": "24ba2f6f-68aa-45ef-b147-601ef9186a46"
      },
      "source": [
        "import matplotlib.pyplot as plt\n",
        "x = [i for i in range(111)]\n",
        "plt.bar(x, mae.h_fin.ensemble_1.alpha)"
      ],
      "execution_count": 28,
      "outputs": [
        {
          "output_type": "execute_result",
          "data": {
            "text/plain": [
              "<BarContainer object of 111 artists>"
            ]
          },
          "metadata": {
            "tags": []
          },
          "execution_count": 28
        },
        {
          "output_type": "display_data",
          "data": {
            "image/png": "[encoded data removed]",
            "text/plain": [
              "<Figure size 432x288 with 1 Axes>"
            ]
          },
          "metadata": {
            "tags": [],
            "needs_background": "light"
          }
        }
      ]
    },
    {
      "cell_type": "code",
      "metadata": {
        "id": "tYdD6r4Ttwl2",
        "colab_type": "code",
        "colab": {}
      },
      "source": [
        "df = pd.DataFrame(mae.h_fin.ensemble_1.alpha.numpy())"
      ],
      "execution_count": 0,
      "outputs": []
    },
    {
      "cell_type": "code",
      "metadata": {
        "id": "B_odIdzhuJsh",
        "colab_type": "code",
        "colab": {}
      },
      "source": [
        "pathway_file_map = {'hsa04064 .csv': 0, 'hsa01522 .csv': 1, 'hsa04066 .csv': 2, 'hsa03320 .csv': 3, 'hsa04068 .csv': 4, 'hsa04010 .csv': 5, 'hsa04071 .csv': 6, 'hsa04012 .csv': 7, 'hsa04072 .csv': 8, 'hsa04014 .csv': 9, 'hsa04110 .csv': 10, 'hsa04015 .csv': 11, 'hsa04115 .csv': 12, 'hsa04020 .csv': 13, 'hsa04137 .csv': 14, 'hsa04022 .csv': 15, 'hsa04140 .csv': 16, 'hsa04024 .csv': 17, 'hsa04144 .csv': 18, 'hsa04145 .csv': 19, 'hsa04062 .csv': 20, 'hsa04150 .csv': 21, 'hsa04151 .csv': 22, 'hsa04152 .csv': 23, 'hsa04210 .csv': 24, 'hsa04211 .csv': 25, 'hsa04216 .csv': 26, 'hsa04217 .csv': 27, 'hsa04218 .csv': 28, 'hsa04261 .csv': 29, 'hsa04270 .csv': 30, 'hsa04310 .csv': 31, 'hsa04340 .csv': 32, 'hsa04350 .csv': 33, 'hsa04360 .csv': 34, 'hsa04370 .csv': 35, 'hsa04371 .csv': 36, 'hsa04380 .csv': 37, 'hsa04390 .csv': 38, 'hsa04510 .csv': 39, 'hsa04520 .csv': 40, 'hsa04530 .csv': 41, 'hsa04550 .csv': 42, 'hsa04610 .csv': 43, 'hsa04611 .csv': 44, 'hsa04620 .csv': 45, 'hsa04621 .csv': 46, 'hsa04622 .csv': 47, 'hsa04623 .csv': 48, 'hsa04625 .csv': 49, 'hsa04630 .csv': 50, 'hsa04650 .csv': 51, 'hsa04657 .csv': 52, 'hsa04658 .csv': 53, 'hsa04659 .csv': 54, 'hsa04660 .csv': 55, 'hsa04662 .csv': 56, 'hsa04664 .csv': 57, 'hsa04666 .csv': 58, 'hsa04668 .csv': 59, 'hsa04670 .csv': 60, 'hsa04713 .csv': 61, 'hsa04714 .csv': 62, 'hsa04720 .csv': 63, 'hsa04722 .csv': 64, 'hsa04723 .csv': 65, 'hsa04724 .csv': 66, 'hsa04725 .csv': 67, 'hsa04726 .csv': 68, 'hsa04728 .csv': 69, 'hsa04730 .csv': 70, 'hsa04750 .csv': 71, 'hsa04810 .csv': 72, 'hsa04910 .csv': 73, 'hsa04911 .csv': 74, 'hsa04912 .csv': 75, 'hsa04913 .csv': 76, 'hsa04915 .csv': 77, 'hsa04916 .csv': 78, 'hsa04917 .csv': 79, 'hsa04918 .csv': 80, 'hsa04919 .csv': 81, 'hsa04920 .csv': 82, 'hsa04921 .csv': 83, 'hsa04922 .csv': 84, 'hsa04923 .csv': 85, 'hsa04924 .csv': 86, 'hsa04925 .csv': 87, 'hsa04926 .csv': 88, 'hsa04927 .csv': 89, 'hsa04928 .csv': 90, 'hsa04929 .csv': 91, 'hsa04935 .csv': 92, 'hsa04960 .csv': 93, 'hsa04961 .csv': 94, 'hsa04962 .csv': 95, 'hsa04970 .csv': 96, 'hsa04971 .csv': 97, 'hsa04972 .csv': 98, 'hsa04973 .csv': 99, 'hsa04976 .csv': 100, 'hsa04978 .csv': 101, 'hsa04979 .csv': 102, 'hsa05200 .csv': 103, 'hsa05202 .csv': 104, 'hsa05204 .csv': 105, 'hsa05205 .csv': 106, 'hsa05211 .csv': 107, 'hsa05230 .csv': 108, 'hsa05231 .csv': 109, 'hsa05235 .csv': 110}"
      ],
      "execution_count": 0,
      "outputs": []
    },
    {
      "cell_type": "code",
      "metadata": {
        "id": "kwVxifmSuW7n",
        "colab_type": "code",
        "colab": {}
      },
      "source": [
        "# list out keys and values separately \n",
        "key_list = list(pathway_file_map.keys()) \n",
        "val_list = list(pathway_file_map.values()) "
      ],
      "execution_count": 0,
      "outputs": []
    },
    {
      "cell_type": "code",
      "metadata": {
        "id": "a8l82g5X231c",
        "colab_type": "code",
        "colab": {}
      },
      "source": [
        "df['pathway'] = key_list"
      ],
      "execution_count": 0,
      "outputs": []
    },
    {
      "cell_type": "code",
      "metadata": {
        "id": "Cpsyeho63B3Y",
        "colab_type": "code",
        "colab": {
          "base_uri": "https://localhost:8080/",
          "height": 419
        },
        "outputId": "89a3a989-c11d-48ac-d2ea-6884988c79b5"
      },
      "source": [
        "df"
      ],
      "execution_count": 33,
      "outputs": [
        {
          "output_type": "execute_result",
          "data": {
            "text/html": [
              "<div>\n",
              "<style scoped>\n",
              "    .dataframe tbody tr th:only-of-type {\n",
              "        vertical-align: middle;\n",
              "    }\n",
              "\n",
              "    .dataframe tbody tr th {\n",
              "        vertical-align: top;\n",
              "    }\n",
              "\n",
              "    .dataframe thead th {\n",
              "        text-align: right;\n",
              "    }\n",
              "</style>\n",
              "<table border=\"1\" class=\"dataframe\">\n",
              "  <thead>\n",
              "    <tr style=\"text-align: right;\">\n",
              "      <th></th>\n",
              "      <th>0</th>\n",
              "      <th>pathway</th>\n",
              "    </tr>\n",
              "  </thead>\n",
              "  <tbody>\n",
              "    <tr>\n",
              "      <th>0</th>\n",
              "      <td>0.008568</td>\n",
              "      <td>hsa04064 .csv</td>\n",
              "    </tr>\n",
              "    <tr>\n",
              "      <th>1</th>\n",
              "      <td>0.008363</td>\n",
              "      <td>hsa01522 .csv</td>\n",
              "    </tr>\n",
              "    <tr>\n",
              "      <th>2</th>\n",
              "      <td>0.008816</td>\n",
              "      <td>hsa04066 .csv</td>\n",
              "    </tr>\n",
              "    <tr>\n",
              "      <th>3</th>\n",
              "      <td>0.008191</td>\n",
              "      <td>hsa03320 .csv</td>\n",
              "    </tr>\n",
              "    <tr>\n",
              "      <th>4</th>\n",
              "      <td>0.009655</td>\n",
              "      <td>hsa04068 .csv</td>\n",
              "    </tr>\n",
              "    <tr>\n",
              "      <th>...</th>\n",
              "      <td>...</td>\n",
              "      <td>...</td>\n",
              "    </tr>\n",
              "    <tr>\n",
              "      <th>106</th>\n",
              "      <td>0.009747</td>\n",
              "      <td>hsa05205 .csv</td>\n",
              "    </tr>\n",
              "    <tr>\n",
              "      <th>107</th>\n",
              "      <td>0.008217</td>\n",
              "      <td>hsa05211 .csv</td>\n",
              "    </tr>\n",
              "    <tr>\n",
              "      <th>108</th>\n",
              "      <td>0.011075</td>\n",
              "      <td>hsa05230 .csv</td>\n",
              "    </tr>\n",
              "    <tr>\n",
              "      <th>109</th>\n",
              "      <td>0.008168</td>\n",
              "      <td>hsa05231 .csv</td>\n",
              "    </tr>\n",
              "    <tr>\n",
              "      <th>110</th>\n",
              "      <td>0.008126</td>\n",
              "      <td>hsa05235 .csv</td>\n",
              "    </tr>\n",
              "  </tbody>\n",
              "</table>\n",
              "<p>111 rows × 2 columns</p>\n",
              "</div>"
            ],
            "text/plain": [
              "            0        pathway\n",
              "0    0.008568  hsa04064 .csv\n",
              "1    0.008363  hsa01522 .csv\n",
              "2    0.008816  hsa04066 .csv\n",
              "3    0.008191  hsa03320 .csv\n",
              "4    0.009655  hsa04068 .csv\n",
              "..        ...            ...\n",
              "106  0.009747  hsa05205 .csv\n",
              "107  0.008217  hsa05211 .csv\n",
              "108  0.011075  hsa05230 .csv\n",
              "109  0.008168  hsa05231 .csv\n",
              "110  0.008126  hsa05235 .csv\n",
              "\n",
              "[111 rows x 2 columns]"
            ]
          },
          "metadata": {
            "tags": []
          },
          "execution_count": 33
        }
      ]
    },
    {
      "cell_type": "code",
      "metadata": {
        "id": "qFS_4ZmM3Cmh",
        "colab_type": "code",
        "colab": {}
      },
      "source": [
        "full_dataset = tf.data.Dataset.from_tensor_slices((X, y))"
      ],
      "execution_count": 0,
      "outputs": []
    },
    {
      "cell_type": "code",
      "metadata": {
        "id": "S5tATv8YFTSN",
        "colab_type": "code",
        "colab": {}
      },
      "source": [
        "pathway_scores = []"
      ],
      "execution_count": 0,
      "outputs": []
    },
    {
      "cell_type": "code",
      "metadata": {
        "id": "7wtCRyHuFN62",
        "colab_type": "code",
        "colab": {}
      },
      "source": [
        "for patient, label in full_dataset:\n",
        "  _ = mae(patient)\n",
        "  scores = mae.h_fin.ensemble_1.alpha.numpy()\n",
        "  scores_norm = scores/np.linalg.norm(scores)\n",
        "  pathway_scores.append(scores_norm)"
      ],
      "execution_count": 0,
      "outputs": []
    },
    {
      "cell_type": "code",
      "metadata": {
        "id": "2eb140flFo99",
        "colab_type": "code",
        "colab": {
          "base_uri": "https://localhost:8080/",
          "height": 160
        },
        "outputId": "7d7d2a24-548c-41ad-8647-2ae919d682f5"
      },
      "source": [
        "from matplotlib.pyplot import figure\n",
        "figure(num=None, figsize=(30, 60), dpi=80, facecolor='w', edgecolor='k')\n",
        "plt.imshow(np.asarray(pathway_scores).T, cmap='Reds', interpolation='nearest')\n",
        "plt.show()"
      ],
      "execution_count": 57,
      "outputs": [
        {
          "output_type": "display_data",
          "data": {
            "image/png": "[encoded data removed]",
            "text/plain": [
              "<Figure size 2400x4800 with 1 Axes>"
            ]
          },
          "metadata": {
            "tags": []
          }
        }
      ]
    },
    {
      "cell_type": "code",
      "metadata": {
        "id": "cP3lfscUHXON",
        "colab_type": "code",
        "colab": {
          "base_uri": "https://localhost:8080/",
          "height": 34
        },
        "outputId": "cbcdbf4c-9861-46d6-85d6-8b32524bc349"
      },
      "source": [
        "pathway_scores[410][26]"
      ],
      "execution_count": 70,
      "outputs": [
        {
          "output_type": "execute_result",
          "data": {
            "text/plain": [
              "0.10363153"
            ]
          },
          "metadata": {
            "tags": []
          },
          "execution_count": 70
        }
      ]
    },
    {
      "cell_type": "code",
      "metadata": {
        "id": "MS-A6kOjIJ0g",
        "colab_type": "code",
        "colab": {
          "base_uri": "https://localhost:8080/",
          "height": 34
        },
        "outputId": "5f2bd2c0-fdb9-4f78-90be-84a0741827a1"
      },
      "source": [
        "pathway_scores[101][26]"
      ],
      "execution_count": 69,
      "outputs": [
        {
          "output_type": "execute_result",
          "data": {
            "text/plain": [
              "0.08920975"
            ]
          },
          "metadata": {
            "tags": []
          },
          "execution_count": 69
        }
      ]
    },
    {
      "cell_type": "code",
      "metadata": {
        "id": "NBo41AenI0-Z",
        "colab_type": "code",
        "colab": {
          "base_uri": "https://localhost:8080/",
          "height": 34
        },
        "outputId": "a8a68a82-b274-42ef-ef79-b0b4fee77a2d"
      },
      "source": [
        "pathway_scores[830][26]"
      ],
      "execution_count": 71,
      "outputs": [
        {
          "output_type": "execute_result",
          "data": {
            "text/plain": [
              "0.08869825"
            ]
          },
          "metadata": {
            "tags": []
          },
          "execution_count": 71
        }
      ]
    },
    {
      "cell_type": "code",
      "metadata": {
        "id": "I8H1qH-wJBZ8",
        "colab_type": "code",
        "colab": {
          "base_uri": "https://localhost:8080/",
          "height": 34
        },
        "outputId": "57cdffac-080a-420e-c6bf-39b4a7053aae"
      },
      "source": [
        "key_list[26] #Ferroptosis"
      ],
      "execution_count": 73,
      "outputs": [
        {
          "output_type": "execute_result",
          "data": {
            "text/plain": [
              "'hsa04216 .csv'"
            ]
          },
          "metadata": {
            "tags": []
          },
          "execution_count": 73
        }
      ]
    },
    {
      "cell_type": "code",
      "metadata": {
        "id": "qdtkb0PXJGaA",
        "colab_type": "code",
        "colab": {
          "base_uri": "https://localhost:8080/",
          "height": 282
        },
        "outputId": "ea2a6f34-7c48-4a79-963f-ce4a8c900d83"
      },
      "source": [
        "import matplotlib.pyplot as plt\n",
        "plt.plot([0.96, 0.97, 0.95, 0.97, 0.97])"
      ],
      "execution_count": 2,
      "outputs": [
        {
          "output_type": "execute_result",
          "data": {
            "text/plain": [
              "[<matplotlib.lines.Line2D at 0x7f0412fc6fd0>]"
            ]
          },
          "metadata": {
            "tags": []
          },
          "execution_count": 2
        },
        {
          "output_type": "display_data",
          "data": {
            "image/png": "[encoded data removed]",
            "text/plain": [
              "<Figure size 432x288 with 1 Axes>"
            ]
          },
          "metadata": {
            "tags": [],
            "needs_background": "light"
          }
        }
      ]
    },
    {
      "cell_type": "code",
      "metadata": {
        "id": "nTYWIGCyj3AO",
        "colab_type": "code",
        "colab": {}
      },
      "source": [
        ""
      ],
      "execution_count": 0,
      "outputs": []
    }
  ]
}